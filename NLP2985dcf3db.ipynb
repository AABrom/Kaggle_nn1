{
  "metadata": {
    "kernelspec": {
      "name": "python3",
      "display_name": "Python 3",
      "language": "python"
    },
    "language_info": {
      "name": "python"
    },
    "colab": {
      "provenance": [],
      "gpuType": "T4",
      "name": "NLP2985dcf3db",
      "include_colab_link": true
    },
    "accelerator": "GPU",
    "widgets": {
      "application/vnd.jupyter.widget-state+json": {
        "4e8a54b325fc4cb6b174b07af54b7dd8": {
          "model_module": "@jupyter-widgets/controls",
          "model_name": "VBoxModel",
          "model_module_version": "1.5.0",
          "state": {
            "_dom_classes": [],
            "_model_module": "@jupyter-widgets/controls",
            "_model_module_version": "1.5.0",
            "_model_name": "VBoxModel",
            "_view_count": null,
            "_view_module": "@jupyter-widgets/controls",
            "_view_module_version": "1.5.0",
            "_view_name": "VBoxView",
            "box_style": "",
            "children": [
              "IPY_MODEL_464a45080a344630903c6c30f5437988"
            ],
            "layout": "IPY_MODEL_ad5e4195ffff453fa4aef620e85e0194"
          }
        },
        "351098cfd80443ce94cfcc8076c368ef": {
          "model_module": "@jupyter-widgets/controls",
          "model_name": "HTMLModel",
          "model_module_version": "1.5.0",
          "state": {
            "_dom_classes": [],
            "_model_module": "@jupyter-widgets/controls",
            "_model_module_version": "1.5.0",
            "_model_name": "HTMLModel",
            "_view_count": null,
            "_view_module": "@jupyter-widgets/controls",
            "_view_module_version": "1.5.0",
            "_view_name": "HTMLView",
            "description": "",
            "description_tooltip": null,
            "layout": "IPY_MODEL_7314430aaac74aaf84171a96b392731e",
            "placeholder": "​",
            "style": "IPY_MODEL_6f2214f3d4fb487fa93646882bed985c",
            "value": "<center> <img\nsrc=https://www.kaggle.com/static/images/site-logo.png\nalt='Kaggle'> <br> Create an API token from <a\nhref=\"https://www.kaggle.com/settings/account\" target=\"_blank\">your Kaggle\nsettings page</a> and paste it below along with your Kaggle username. <br> </center>"
          }
        },
        "676c78d25e704421acb5d3d7896738d9": {
          "model_module": "@jupyter-widgets/controls",
          "model_name": "TextModel",
          "model_module_version": "1.5.0",
          "state": {
            "_dom_classes": [],
            "_model_module": "@jupyter-widgets/controls",
            "_model_module_version": "1.5.0",
            "_model_name": "TextModel",
            "_view_count": null,
            "_view_module": "@jupyter-widgets/controls",
            "_view_module_version": "1.5.0",
            "_view_name": "TextView",
            "continuous_update": true,
            "description": "Username:",
            "description_tooltip": null,
            "disabled": false,
            "layout": "IPY_MODEL_f3f3c869f3cc4c28857ae43061a95911",
            "placeholder": "​",
            "style": "IPY_MODEL_1514a96deab047e392db91158f7d8f52",
            "value": "anastasiabromberg"
          }
        },
        "5e0481d0979845fb8fdb5c85c2bc6f65": {
          "model_module": "@jupyter-widgets/controls",
          "model_name": "PasswordModel",
          "model_module_version": "1.5.0",
          "state": {
            "_dom_classes": [],
            "_model_module": "@jupyter-widgets/controls",
            "_model_module_version": "1.5.0",
            "_model_name": "PasswordModel",
            "_view_count": null,
            "_view_module": "@jupyter-widgets/controls",
            "_view_module_version": "1.5.0",
            "_view_name": "PasswordView",
            "continuous_update": true,
            "description": "Token:",
            "description_tooltip": null,
            "disabled": false,
            "layout": "IPY_MODEL_bf1697912823418f8181d9182d20047e",
            "placeholder": "​",
            "style": "IPY_MODEL_7feb2fb383a6448d8268745a7e34d0c9",
            "value": ""
          }
        },
        "75aaaa78158143658a26e4eaac664e5e": {
          "model_module": "@jupyter-widgets/controls",
          "model_name": "ButtonModel",
          "model_module_version": "1.5.0",
          "state": {
            "_dom_classes": [],
            "_model_module": "@jupyter-widgets/controls",
            "_model_module_version": "1.5.0",
            "_model_name": "ButtonModel",
            "_view_count": null,
            "_view_module": "@jupyter-widgets/controls",
            "_view_module_version": "1.5.0",
            "_view_name": "ButtonView",
            "button_style": "",
            "description": "Login",
            "disabled": false,
            "icon": "",
            "layout": "IPY_MODEL_dc864c48161945ed85d7714385383778",
            "style": "IPY_MODEL_dc81f03e67f9401996f92c339b64b994",
            "tooltip": ""
          }
        },
        "6fc04fde9a774daeb555edba5bc173ea": {
          "model_module": "@jupyter-widgets/controls",
          "model_name": "HTMLModel",
          "model_module_version": "1.5.0",
          "state": {
            "_dom_classes": [],
            "_model_module": "@jupyter-widgets/controls",
            "_model_module_version": "1.5.0",
            "_model_name": "HTMLModel",
            "_view_count": null,
            "_view_module": "@jupyter-widgets/controls",
            "_view_module_version": "1.5.0",
            "_view_name": "HTMLView",
            "description": "",
            "description_tooltip": null,
            "layout": "IPY_MODEL_23c4f807729f45b8b7ac9382dd621f57",
            "placeholder": "​",
            "style": "IPY_MODEL_6cddc0dd2f3e41bca51584f5d3f313ee",
            "value": "\n<b>Thank You</b></center>"
          }
        },
        "ad5e4195ffff453fa4aef620e85e0194": {
          "model_module": "@jupyter-widgets/base",
          "model_name": "LayoutModel",
          "model_module_version": "1.2.0",
          "state": {
            "_model_module": "@jupyter-widgets/base",
            "_model_module_version": "1.2.0",
            "_model_name": "LayoutModel",
            "_view_count": null,
            "_view_module": "@jupyter-widgets/base",
            "_view_module_version": "1.2.0",
            "_view_name": "LayoutView",
            "align_content": null,
            "align_items": "center",
            "align_self": null,
            "border": null,
            "bottom": null,
            "display": "flex",
            "flex": null,
            "flex_flow": "column",
            "grid_area": null,
            "grid_auto_columns": null,
            "grid_auto_flow": null,
            "grid_auto_rows": null,
            "grid_column": null,
            "grid_gap": null,
            "grid_row": null,
            "grid_template_areas": null,
            "grid_template_columns": null,
            "grid_template_rows": null,
            "height": null,
            "justify_content": null,
            "justify_items": null,
            "left": null,
            "margin": null,
            "max_height": null,
            "max_width": null,
            "min_height": null,
            "min_width": null,
            "object_fit": null,
            "object_position": null,
            "order": null,
            "overflow": null,
            "overflow_x": null,
            "overflow_y": null,
            "padding": null,
            "right": null,
            "top": null,
            "visibility": null,
            "width": "50%"
          }
        },
        "7314430aaac74aaf84171a96b392731e": {
          "model_module": "@jupyter-widgets/base",
          "model_name": "LayoutModel",
          "model_module_version": "1.2.0",
          "state": {
            "_model_module": "@jupyter-widgets/base",
            "_model_module_version": "1.2.0",
            "_model_name": "LayoutModel",
            "_view_count": null,
            "_view_module": "@jupyter-widgets/base",
            "_view_module_version": "1.2.0",
            "_view_name": "LayoutView",
            "align_content": null,
            "align_items": null,
            "align_self": null,
            "border": null,
            "bottom": null,
            "display": null,
            "flex": null,
            "flex_flow": null,
            "grid_area": null,
            "grid_auto_columns": null,
            "grid_auto_flow": null,
            "grid_auto_rows": null,
            "grid_column": null,
            "grid_gap": null,
            "grid_row": null,
            "grid_template_areas": null,
            "grid_template_columns": null,
            "grid_template_rows": null,
            "height": null,
            "justify_content": null,
            "justify_items": null,
            "left": null,
            "margin": null,
            "max_height": null,
            "max_width": null,
            "min_height": null,
            "min_width": null,
            "object_fit": null,
            "object_position": null,
            "order": null,
            "overflow": null,
            "overflow_x": null,
            "overflow_y": null,
            "padding": null,
            "right": null,
            "top": null,
            "visibility": null,
            "width": null
          }
        },
        "6f2214f3d4fb487fa93646882bed985c": {
          "model_module": "@jupyter-widgets/controls",
          "model_name": "DescriptionStyleModel",
          "model_module_version": "1.5.0",
          "state": {
            "_model_module": "@jupyter-widgets/controls",
            "_model_module_version": "1.5.0",
            "_model_name": "DescriptionStyleModel",
            "_view_count": null,
            "_view_module": "@jupyter-widgets/base",
            "_view_module_version": "1.2.0",
            "_view_name": "StyleView",
            "description_width": ""
          }
        },
        "f3f3c869f3cc4c28857ae43061a95911": {
          "model_module": "@jupyter-widgets/base",
          "model_name": "LayoutModel",
          "model_module_version": "1.2.0",
          "state": {
            "_model_module": "@jupyter-widgets/base",
            "_model_module_version": "1.2.0",
            "_model_name": "LayoutModel",
            "_view_count": null,
            "_view_module": "@jupyter-widgets/base",
            "_view_module_version": "1.2.0",
            "_view_name": "LayoutView",
            "align_content": null,
            "align_items": null,
            "align_self": null,
            "border": null,
            "bottom": null,
            "display": null,
            "flex": null,
            "flex_flow": null,
            "grid_area": null,
            "grid_auto_columns": null,
            "grid_auto_flow": null,
            "grid_auto_rows": null,
            "grid_column": null,
            "grid_gap": null,
            "grid_row": null,
            "grid_template_areas": null,
            "grid_template_columns": null,
            "grid_template_rows": null,
            "height": null,
            "justify_content": null,
            "justify_items": null,
            "left": null,
            "margin": null,
            "max_height": null,
            "max_width": null,
            "min_height": null,
            "min_width": null,
            "object_fit": null,
            "object_position": null,
            "order": null,
            "overflow": null,
            "overflow_x": null,
            "overflow_y": null,
            "padding": null,
            "right": null,
            "top": null,
            "visibility": null,
            "width": null
          }
        },
        "1514a96deab047e392db91158f7d8f52": {
          "model_module": "@jupyter-widgets/controls",
          "model_name": "DescriptionStyleModel",
          "model_module_version": "1.5.0",
          "state": {
            "_model_module": "@jupyter-widgets/controls",
            "_model_module_version": "1.5.0",
            "_model_name": "DescriptionStyleModel",
            "_view_count": null,
            "_view_module": "@jupyter-widgets/base",
            "_view_module_version": "1.2.0",
            "_view_name": "StyleView",
            "description_width": ""
          }
        },
        "bf1697912823418f8181d9182d20047e": {
          "model_module": "@jupyter-widgets/base",
          "model_name": "LayoutModel",
          "model_module_version": "1.2.0",
          "state": {
            "_model_module": "@jupyter-widgets/base",
            "_model_module_version": "1.2.0",
            "_model_name": "LayoutModel",
            "_view_count": null,
            "_view_module": "@jupyter-widgets/base",
            "_view_module_version": "1.2.0",
            "_view_name": "LayoutView",
            "align_content": null,
            "align_items": null,
            "align_self": null,
            "border": null,
            "bottom": null,
            "display": null,
            "flex": null,
            "flex_flow": null,
            "grid_area": null,
            "grid_auto_columns": null,
            "grid_auto_flow": null,
            "grid_auto_rows": null,
            "grid_column": null,
            "grid_gap": null,
            "grid_row": null,
            "grid_template_areas": null,
            "grid_template_columns": null,
            "grid_template_rows": null,
            "height": null,
            "justify_content": null,
            "justify_items": null,
            "left": null,
            "margin": null,
            "max_height": null,
            "max_width": null,
            "min_height": null,
            "min_width": null,
            "object_fit": null,
            "object_position": null,
            "order": null,
            "overflow": null,
            "overflow_x": null,
            "overflow_y": null,
            "padding": null,
            "right": null,
            "top": null,
            "visibility": null,
            "width": null
          }
        },
        "7feb2fb383a6448d8268745a7e34d0c9": {
          "model_module": "@jupyter-widgets/controls",
          "model_name": "DescriptionStyleModel",
          "model_module_version": "1.5.0",
          "state": {
            "_model_module": "@jupyter-widgets/controls",
            "_model_module_version": "1.5.0",
            "_model_name": "DescriptionStyleModel",
            "_view_count": null,
            "_view_module": "@jupyter-widgets/base",
            "_view_module_version": "1.2.0",
            "_view_name": "StyleView",
            "description_width": ""
          }
        },
        "dc864c48161945ed85d7714385383778": {
          "model_module": "@jupyter-widgets/base",
          "model_name": "LayoutModel",
          "model_module_version": "1.2.0",
          "state": {
            "_model_module": "@jupyter-widgets/base",
            "_model_module_version": "1.2.0",
            "_model_name": "LayoutModel",
            "_view_count": null,
            "_view_module": "@jupyter-widgets/base",
            "_view_module_version": "1.2.0",
            "_view_name": "LayoutView",
            "align_content": null,
            "align_items": null,
            "align_self": null,
            "border": null,
            "bottom": null,
            "display": null,
            "flex": null,
            "flex_flow": null,
            "grid_area": null,
            "grid_auto_columns": null,
            "grid_auto_flow": null,
            "grid_auto_rows": null,
            "grid_column": null,
            "grid_gap": null,
            "grid_row": null,
            "grid_template_areas": null,
            "grid_template_columns": null,
            "grid_template_rows": null,
            "height": null,
            "justify_content": null,
            "justify_items": null,
            "left": null,
            "margin": null,
            "max_height": null,
            "max_width": null,
            "min_height": null,
            "min_width": null,
            "object_fit": null,
            "object_position": null,
            "order": null,
            "overflow": null,
            "overflow_x": null,
            "overflow_y": null,
            "padding": null,
            "right": null,
            "top": null,
            "visibility": null,
            "width": null
          }
        },
        "dc81f03e67f9401996f92c339b64b994": {
          "model_module": "@jupyter-widgets/controls",
          "model_name": "ButtonStyleModel",
          "model_module_version": "1.5.0",
          "state": {
            "_model_module": "@jupyter-widgets/controls",
            "_model_module_version": "1.5.0",
            "_model_name": "ButtonStyleModel",
            "_view_count": null,
            "_view_module": "@jupyter-widgets/base",
            "_view_module_version": "1.2.0",
            "_view_name": "StyleView",
            "button_color": null,
            "font_weight": ""
          }
        },
        "23c4f807729f45b8b7ac9382dd621f57": {
          "model_module": "@jupyter-widgets/base",
          "model_name": "LayoutModel",
          "model_module_version": "1.2.0",
          "state": {
            "_model_module": "@jupyter-widgets/base",
            "_model_module_version": "1.2.0",
            "_model_name": "LayoutModel",
            "_view_count": null,
            "_view_module": "@jupyter-widgets/base",
            "_view_module_version": "1.2.0",
            "_view_name": "LayoutView",
            "align_content": null,
            "align_items": null,
            "align_self": null,
            "border": null,
            "bottom": null,
            "display": null,
            "flex": null,
            "flex_flow": null,
            "grid_area": null,
            "grid_auto_columns": null,
            "grid_auto_flow": null,
            "grid_auto_rows": null,
            "grid_column": null,
            "grid_gap": null,
            "grid_row": null,
            "grid_template_areas": null,
            "grid_template_columns": null,
            "grid_template_rows": null,
            "height": null,
            "justify_content": null,
            "justify_items": null,
            "left": null,
            "margin": null,
            "max_height": null,
            "max_width": null,
            "min_height": null,
            "min_width": null,
            "object_fit": null,
            "object_position": null,
            "order": null,
            "overflow": null,
            "overflow_x": null,
            "overflow_y": null,
            "padding": null,
            "right": null,
            "top": null,
            "visibility": null,
            "width": null
          }
        },
        "6cddc0dd2f3e41bca51584f5d3f313ee": {
          "model_module": "@jupyter-widgets/controls",
          "model_name": "DescriptionStyleModel",
          "model_module_version": "1.5.0",
          "state": {
            "_model_module": "@jupyter-widgets/controls",
            "_model_module_version": "1.5.0",
            "_model_name": "DescriptionStyleModel",
            "_view_count": null,
            "_view_module": "@jupyter-widgets/base",
            "_view_module_version": "1.2.0",
            "_view_name": "StyleView",
            "description_width": ""
          }
        },
        "20a854c86989425a9413899575f95a01": {
          "model_module": "@jupyter-widgets/controls",
          "model_name": "LabelModel",
          "model_module_version": "1.5.0",
          "state": {
            "_dom_classes": [],
            "_model_module": "@jupyter-widgets/controls",
            "_model_module_version": "1.5.0",
            "_model_name": "LabelModel",
            "_view_count": null,
            "_view_module": "@jupyter-widgets/controls",
            "_view_module_version": "1.5.0",
            "_view_name": "LabelView",
            "description": "",
            "description_tooltip": null,
            "layout": "IPY_MODEL_74dac71fc6d7424d9180541686eadc6f",
            "placeholder": "​",
            "style": "IPY_MODEL_b1d5970a53424162ad5650edb4db4b01",
            "value": "Connecting..."
          }
        },
        "74dac71fc6d7424d9180541686eadc6f": {
          "model_module": "@jupyter-widgets/base",
          "model_name": "LayoutModel",
          "model_module_version": "1.2.0",
          "state": {
            "_model_module": "@jupyter-widgets/base",
            "_model_module_version": "1.2.0",
            "_model_name": "LayoutModel",
            "_view_count": null,
            "_view_module": "@jupyter-widgets/base",
            "_view_module_version": "1.2.0",
            "_view_name": "LayoutView",
            "align_content": null,
            "align_items": null,
            "align_self": null,
            "border": null,
            "bottom": null,
            "display": null,
            "flex": null,
            "flex_flow": null,
            "grid_area": null,
            "grid_auto_columns": null,
            "grid_auto_flow": null,
            "grid_auto_rows": null,
            "grid_column": null,
            "grid_gap": null,
            "grid_row": null,
            "grid_template_areas": null,
            "grid_template_columns": null,
            "grid_template_rows": null,
            "height": null,
            "justify_content": null,
            "justify_items": null,
            "left": null,
            "margin": null,
            "max_height": null,
            "max_width": null,
            "min_height": null,
            "min_width": null,
            "object_fit": null,
            "object_position": null,
            "order": null,
            "overflow": null,
            "overflow_x": null,
            "overflow_y": null,
            "padding": null,
            "right": null,
            "top": null,
            "visibility": null,
            "width": null
          }
        },
        "b1d5970a53424162ad5650edb4db4b01": {
          "model_module": "@jupyter-widgets/controls",
          "model_name": "DescriptionStyleModel",
          "model_module_version": "1.5.0",
          "state": {
            "_model_module": "@jupyter-widgets/controls",
            "_model_module_version": "1.5.0",
            "_model_name": "DescriptionStyleModel",
            "_view_count": null,
            "_view_module": "@jupyter-widgets/base",
            "_view_module_version": "1.2.0",
            "_view_name": "StyleView",
            "description_width": ""
          }
        },
        "464a45080a344630903c6c30f5437988": {
          "model_module": "@jupyter-widgets/controls",
          "model_name": "LabelModel",
          "model_module_version": "1.5.0",
          "state": {
            "_dom_classes": [],
            "_model_module": "@jupyter-widgets/controls",
            "_model_module_version": "1.5.0",
            "_model_name": "LabelModel",
            "_view_count": null,
            "_view_module": "@jupyter-widgets/controls",
            "_view_module_version": "1.5.0",
            "_view_name": "LabelView",
            "description": "",
            "description_tooltip": null,
            "layout": "IPY_MODEL_a978d0fefe2e4b0aaed1b091e2926ad7",
            "placeholder": "​",
            "style": "IPY_MODEL_9ade52e17af1427cae6bd92bb6b8b07e",
            "value": "Kaggle credentials successfully validated."
          }
        },
        "a978d0fefe2e4b0aaed1b091e2926ad7": {
          "model_module": "@jupyter-widgets/base",
          "model_name": "LayoutModel",
          "model_module_version": "1.2.0",
          "state": {
            "_model_module": "@jupyter-widgets/base",
            "_model_module_version": "1.2.0",
            "_model_name": "LayoutModel",
            "_view_count": null,
            "_view_module": "@jupyter-widgets/base",
            "_view_module_version": "1.2.0",
            "_view_name": "LayoutView",
            "align_content": null,
            "align_items": null,
            "align_self": null,
            "border": null,
            "bottom": null,
            "display": null,
            "flex": null,
            "flex_flow": null,
            "grid_area": null,
            "grid_auto_columns": null,
            "grid_auto_flow": null,
            "grid_auto_rows": null,
            "grid_column": null,
            "grid_gap": null,
            "grid_row": null,
            "grid_template_areas": null,
            "grid_template_columns": null,
            "grid_template_rows": null,
            "height": null,
            "justify_content": null,
            "justify_items": null,
            "left": null,
            "margin": null,
            "max_height": null,
            "max_width": null,
            "min_height": null,
            "min_width": null,
            "object_fit": null,
            "object_position": null,
            "order": null,
            "overflow": null,
            "overflow_x": null,
            "overflow_y": null,
            "padding": null,
            "right": null,
            "top": null,
            "visibility": null,
            "width": null
          }
        },
        "9ade52e17af1427cae6bd92bb6b8b07e": {
          "model_module": "@jupyter-widgets/controls",
          "model_name": "DescriptionStyleModel",
          "model_module_version": "1.5.0",
          "state": {
            "_model_module": "@jupyter-widgets/controls",
            "_model_module_version": "1.5.0",
            "_model_name": "DescriptionStyleModel",
            "_view_count": null,
            "_view_module": "@jupyter-widgets/base",
            "_view_module_version": "1.2.0",
            "_view_name": "StyleView",
            "description_width": ""
          }
        },
        "41dfa68588484f67b70dd1deab6e5a0c": {
          "model_module": "@jupyter-widgets/controls",
          "model_name": "HBoxModel",
          "model_module_version": "1.5.0",
          "state": {
            "_dom_classes": [],
            "_model_module": "@jupyter-widgets/controls",
            "_model_module_version": "1.5.0",
            "_model_name": "HBoxModel",
            "_view_count": null,
            "_view_module": "@jupyter-widgets/controls",
            "_view_module_version": "1.5.0",
            "_view_name": "HBoxView",
            "box_style": "",
            "children": [
              "IPY_MODEL_410337bc934d42a8aaeb0a7c33f815e1",
              "IPY_MODEL_728f945a9bf64311aef9af1ffeca5752",
              "IPY_MODEL_3f8098fe0804499fa8c99e0c16f7b587"
            ],
            "layout": "IPY_MODEL_840ad94fc96f4d0fbee94e5f2d942a03"
          }
        },
        "410337bc934d42a8aaeb0a7c33f815e1": {
          "model_module": "@jupyter-widgets/controls",
          "model_name": "HTMLModel",
          "model_module_version": "1.5.0",
          "state": {
            "_dom_classes": [],
            "_model_module": "@jupyter-widgets/controls",
            "_model_module_version": "1.5.0",
            "_model_name": "HTMLModel",
            "_view_count": null,
            "_view_module": "@jupyter-widgets/controls",
            "_view_module_version": "1.5.0",
            "_view_name": "HTMLView",
            "description": "",
            "description_tooltip": null,
            "layout": "IPY_MODEL_b469ca80f6ca47f2af98f2388e25471e",
            "placeholder": "​",
            "style": "IPY_MODEL_f2d745d911174a28b5f6de82ed3ce8ec",
            "value": "Preprocessing Train:   3%"
          }
        },
        "728f945a9bf64311aef9af1ffeca5752": {
          "model_module": "@jupyter-widgets/controls",
          "model_name": "FloatProgressModel",
          "model_module_version": "1.5.0",
          "state": {
            "_dom_classes": [],
            "_model_module": "@jupyter-widgets/controls",
            "_model_module_version": "1.5.0",
            "_model_name": "FloatProgressModel",
            "_view_count": null,
            "_view_module": "@jupyter-widgets/controls",
            "_view_module_version": "1.5.0",
            "_view_name": "ProgressView",
            "bar_style": "",
            "description": "",
            "description_tooltip": null,
            "layout": "IPY_MODEL_0267c5f1452843caa64f7fe33cef33d1",
            "max": 12500,
            "min": 0,
            "orientation": "horizontal",
            "style": "IPY_MODEL_3e635b61b6b5459fa45a6d98e1547062",
            "value": 398
          }
        },
        "3f8098fe0804499fa8c99e0c16f7b587": {
          "model_module": "@jupyter-widgets/controls",
          "model_name": "HTMLModel",
          "model_module_version": "1.5.0",
          "state": {
            "_dom_classes": [],
            "_model_module": "@jupyter-widgets/controls",
            "_model_module_version": "1.5.0",
            "_model_name": "HTMLModel",
            "_view_count": null,
            "_view_module": "@jupyter-widgets/controls",
            "_view_module_version": "1.5.0",
            "_view_name": "HTMLView",
            "description": "",
            "description_tooltip": null,
            "layout": "IPY_MODEL_e99bb377b72d47e69865548f62d89534",
            "placeholder": "​",
            "style": "IPY_MODEL_4c4e3318747045109d314f6311b61188",
            "value": " 398/12500 [00:17&lt;12:21, 16.33it/s]"
          }
        },
        "840ad94fc96f4d0fbee94e5f2d942a03": {
          "model_module": "@jupyter-widgets/base",
          "model_name": "LayoutModel",
          "model_module_version": "1.2.0",
          "state": {
            "_model_module": "@jupyter-widgets/base",
            "_model_module_version": "1.2.0",
            "_model_name": "LayoutModel",
            "_view_count": null,
            "_view_module": "@jupyter-widgets/base",
            "_view_module_version": "1.2.0",
            "_view_name": "LayoutView",
            "align_content": null,
            "align_items": null,
            "align_self": null,
            "border": null,
            "bottom": null,
            "display": null,
            "flex": null,
            "flex_flow": null,
            "grid_area": null,
            "grid_auto_columns": null,
            "grid_auto_flow": null,
            "grid_auto_rows": null,
            "grid_column": null,
            "grid_gap": null,
            "grid_row": null,
            "grid_template_areas": null,
            "grid_template_columns": null,
            "grid_template_rows": null,
            "height": null,
            "justify_content": null,
            "justify_items": null,
            "left": null,
            "margin": null,
            "max_height": null,
            "max_width": null,
            "min_height": null,
            "min_width": null,
            "object_fit": null,
            "object_position": null,
            "order": null,
            "overflow": null,
            "overflow_x": null,
            "overflow_y": null,
            "padding": null,
            "right": null,
            "top": null,
            "visibility": null,
            "width": null
          }
        },
        "b469ca80f6ca47f2af98f2388e25471e": {
          "model_module": "@jupyter-widgets/base",
          "model_name": "LayoutModel",
          "model_module_version": "1.2.0",
          "state": {
            "_model_module": "@jupyter-widgets/base",
            "_model_module_version": "1.2.0",
            "_model_name": "LayoutModel",
            "_view_count": null,
            "_view_module": "@jupyter-widgets/base",
            "_view_module_version": "1.2.0",
            "_view_name": "LayoutView",
            "align_content": null,
            "align_items": null,
            "align_self": null,
            "border": null,
            "bottom": null,
            "display": null,
            "flex": null,
            "flex_flow": null,
            "grid_area": null,
            "grid_auto_columns": null,
            "grid_auto_flow": null,
            "grid_auto_rows": null,
            "grid_column": null,
            "grid_gap": null,
            "grid_row": null,
            "grid_template_areas": null,
            "grid_template_columns": null,
            "grid_template_rows": null,
            "height": null,
            "justify_content": null,
            "justify_items": null,
            "left": null,
            "margin": null,
            "max_height": null,
            "max_width": null,
            "min_height": null,
            "min_width": null,
            "object_fit": null,
            "object_position": null,
            "order": null,
            "overflow": null,
            "overflow_x": null,
            "overflow_y": null,
            "padding": null,
            "right": null,
            "top": null,
            "visibility": null,
            "width": null
          }
        },
        "f2d745d911174a28b5f6de82ed3ce8ec": {
          "model_module": "@jupyter-widgets/controls",
          "model_name": "DescriptionStyleModel",
          "model_module_version": "1.5.0",
          "state": {
            "_model_module": "@jupyter-widgets/controls",
            "_model_module_version": "1.5.0",
            "_model_name": "DescriptionStyleModel",
            "_view_count": null,
            "_view_module": "@jupyter-widgets/base",
            "_view_module_version": "1.2.0",
            "_view_name": "StyleView",
            "description_width": ""
          }
        },
        "0267c5f1452843caa64f7fe33cef33d1": {
          "model_module": "@jupyter-widgets/base",
          "model_name": "LayoutModel",
          "model_module_version": "1.2.0",
          "state": {
            "_model_module": "@jupyter-widgets/base",
            "_model_module_version": "1.2.0",
            "_model_name": "LayoutModel",
            "_view_count": null,
            "_view_module": "@jupyter-widgets/base",
            "_view_module_version": "1.2.0",
            "_view_name": "LayoutView",
            "align_content": null,
            "align_items": null,
            "align_self": null,
            "border": null,
            "bottom": null,
            "display": null,
            "flex": null,
            "flex_flow": null,
            "grid_area": null,
            "grid_auto_columns": null,
            "grid_auto_flow": null,
            "grid_auto_rows": null,
            "grid_column": null,
            "grid_gap": null,
            "grid_row": null,
            "grid_template_areas": null,
            "grid_template_columns": null,
            "grid_template_rows": null,
            "height": null,
            "justify_content": null,
            "justify_items": null,
            "left": null,
            "margin": null,
            "max_height": null,
            "max_width": null,
            "min_height": null,
            "min_width": null,
            "object_fit": null,
            "object_position": null,
            "order": null,
            "overflow": null,
            "overflow_x": null,
            "overflow_y": null,
            "padding": null,
            "right": null,
            "top": null,
            "visibility": null,
            "width": null
          }
        },
        "3e635b61b6b5459fa45a6d98e1547062": {
          "model_module": "@jupyter-widgets/controls",
          "model_name": "ProgressStyleModel",
          "model_module_version": "1.5.0",
          "state": {
            "_model_module": "@jupyter-widgets/controls",
            "_model_module_version": "1.5.0",
            "_model_name": "ProgressStyleModel",
            "_view_count": null,
            "_view_module": "@jupyter-widgets/base",
            "_view_module_version": "1.2.0",
            "_view_name": "StyleView",
            "bar_color": null,
            "description_width": ""
          }
        },
        "e99bb377b72d47e69865548f62d89534": {
          "model_module": "@jupyter-widgets/base",
          "model_name": "LayoutModel",
          "model_module_version": "1.2.0",
          "state": {
            "_model_module": "@jupyter-widgets/base",
            "_model_module_version": "1.2.0",
            "_model_name": "LayoutModel",
            "_view_count": null,
            "_view_module": "@jupyter-widgets/base",
            "_view_module_version": "1.2.0",
            "_view_name": "LayoutView",
            "align_content": null,
            "align_items": null,
            "align_self": null,
            "border": null,
            "bottom": null,
            "display": null,
            "flex": null,
            "flex_flow": null,
            "grid_area": null,
            "grid_auto_columns": null,
            "grid_auto_flow": null,
            "grid_auto_rows": null,
            "grid_column": null,
            "grid_gap": null,
            "grid_row": null,
            "grid_template_areas": null,
            "grid_template_columns": null,
            "grid_template_rows": null,
            "height": null,
            "justify_content": null,
            "justify_items": null,
            "left": null,
            "margin": null,
            "max_height": null,
            "max_width": null,
            "min_height": null,
            "min_width": null,
            "object_fit": null,
            "object_position": null,
            "order": null,
            "overflow": null,
            "overflow_x": null,
            "overflow_y": null,
            "padding": null,
            "right": null,
            "top": null,
            "visibility": null,
            "width": null
          }
        },
        "4c4e3318747045109d314f6311b61188": {
          "model_module": "@jupyter-widgets/controls",
          "model_name": "DescriptionStyleModel",
          "model_module_version": "1.5.0",
          "state": {
            "_model_module": "@jupyter-widgets/controls",
            "_model_module_version": "1.5.0",
            "_model_name": "DescriptionStyleModel",
            "_view_count": null,
            "_view_module": "@jupyter-widgets/base",
            "_view_module_version": "1.2.0",
            "_view_name": "StyleView",
            "description_width": ""
          }
        }
      }
    },
    "kaggle": {
      "accelerator": "nvidiaTeslaT4",
      "dataSources": [
        {
          "sourceId": 104939,
          "databundleVersionId": 12649194,
          "isSourceIdPinned": false,
          "sourceType": "competition"
        }
      ],
      "dockerImageVersionId": 31090,
      "isInternetEnabled": false,
      "language": "python",
      "sourceType": "notebook",
      "isGpuEnabled": true
    }
  },
  "nbformat_minor": 0,
  "nbformat": 4,
  "cells": [
    {
      "cell_type": "markdown",
      "metadata": {
        "id": "view-in-github",
        "colab_type": "text"
      },
      "source": [
        "<a href=\"https://colab.research.google.com/github/AABrom/Kaggle_nn1/blob/main/NLP2985dcf3db.ipynb\" target=\"_parent\"><img src=\"https://colab.research.google.com/assets/colab-badge.svg\" alt=\"Open In Colab\"/></a>"
      ]
    },
    {
      "source": [
        "# IMPORTANT: SOME KAGGLE DATA SOURCES ARE PRIVATE\n",
        "# RUN THIS CELL IN ORDER TO IMPORT YOUR KAGGLE DATA SOURCES.\n",
        "import kagglehub\n",
        "kagglehub.login()\n"
      ],
      "metadata": {
        "id": "qRKtrz5CWfqH",
        "outputId": "84af353e-0429-4ec2-bada-d06b35f752eb",
        "colab": {
          "base_uri": "https://localhost:8080/",
          "height": 84,
          "referenced_widgets": [
            "4e8a54b325fc4cb6b174b07af54b7dd8",
            "351098cfd80443ce94cfcc8076c368ef",
            "676c78d25e704421acb5d3d7896738d9",
            "5e0481d0979845fb8fdb5c85c2bc6f65",
            "75aaaa78158143658a26e4eaac664e5e",
            "6fc04fde9a774daeb555edba5bc173ea",
            "ad5e4195ffff453fa4aef620e85e0194",
            "7314430aaac74aaf84171a96b392731e",
            "6f2214f3d4fb487fa93646882bed985c",
            "f3f3c869f3cc4c28857ae43061a95911",
            "1514a96deab047e392db91158f7d8f52",
            "bf1697912823418f8181d9182d20047e",
            "7feb2fb383a6448d8268745a7e34d0c9",
            "dc864c48161945ed85d7714385383778",
            "dc81f03e67f9401996f92c339b64b994",
            "23c4f807729f45b8b7ac9382dd621f57",
            "6cddc0dd2f3e41bca51584f5d3f313ee",
            "20a854c86989425a9413899575f95a01",
            "74dac71fc6d7424d9180541686eadc6f",
            "b1d5970a53424162ad5650edb4db4b01",
            "464a45080a344630903c6c30f5437988",
            "a978d0fefe2e4b0aaed1b091e2926ad7",
            "9ade52e17af1427cae6bd92bb6b8b07e"
          ]
        }
      },
      "cell_type": "code",
      "outputs": [
        {
          "output_type": "display_data",
          "data": {
            "text/plain": [
              "VBox(children=(HTML(value='<center> <img\\nsrc=https://www.kaggle.com/static/images/site-logo.png\\nalt=\\'Kaggle…"
            ],
            "application/vnd.jupyter.widget-view+json": {
              "version_major": 2,
              "version_minor": 0,
              "model_id": "4e8a54b325fc4cb6b174b07af54b7dd8"
            }
          },
          "metadata": {}
        },
        {
          "output_type": "stream",
          "name": "stdout",
          "text": [
            "Kaggle credentials set.\n",
            "Kaggle credentials successfully validated.\n"
          ]
        }
      ],
      "execution_count": 3
    },
    {
      "source": [
        "# IMPORTANT: RUN THIS CELL IN ORDER TO IMPORT YOUR KAGGLE DATA SOURCES,\n",
        "# THEN FEEL FREE TO DELETE THIS CELL.\n",
        "# NOTE: THIS NOTEBOOK ENVIRONMENT DIFFERS FROM KAGGLE'S PYTHON\n",
        "# ENVIRONMENT SO THERE MAY BE MISSING LIBRARIES USED BY YOUR\n",
        "# NOTEBOOK.\n",
        "\n",
        "teta_nn_1_2025_path = kagglehub.competition_download('teta-nn-1-2025')\n",
        "\n",
        "print('Data source import complete.')\n"
      ],
      "metadata": {
        "id": "FIXmS0FAWfqJ",
        "outputId": "e1e7f0b0-e31b-417f-a9cb-7d238601bb1a",
        "colab": {
          "base_uri": "https://localhost:8080/"
        }
      },
      "cell_type": "code",
      "outputs": [
        {
          "output_type": "stream",
          "name": "stdout",
          "text": [
            "Downloading from https://www.kaggle.com/api/v1/competitions/data/download-all/teta-nn-1-2025...\n"
          ]
        },
        {
          "output_type": "stream",
          "name": "stderr",
          "text": [
            "100%|██████████| 20.3M/20.3M [00:00<00:00, 83.0MB/s]"
          ]
        },
        {
          "output_type": "stream",
          "name": "stdout",
          "text": [
            "Extracting files...\n"
          ]
        },
        {
          "output_type": "stream",
          "name": "stderr",
          "text": [
            "\n"
          ]
        },
        {
          "output_type": "stream",
          "name": "stdout",
          "text": [
            "Data source import complete.\n"
          ]
        }
      ],
      "execution_count": 4
    },
    {
      "cell_type": "code",
      "source": [
        "! pip install razdel pymorphy3"
      ],
      "metadata": {
        "colab": {
          "base_uri": "https://localhost:8080/"
        },
        "id": "Ge14r_OrM2j8",
        "outputId": "d83dc97b-aab4-4613-a94b-178ee53e1685"
      },
      "outputs": [
        {
          "output_type": "stream",
          "name": "stdout",
          "text": [
            "Collecting razdel\n",
            "  Downloading razdel-0.5.0-py3-none-any.whl.metadata (10.0 kB)\n",
            "Collecting pymorphy3\n",
            "  Downloading pymorphy3-2.0.4-py3-none-any.whl.metadata (2.4 kB)\n",
            "Collecting dawg2-python>=0.8.0 (from pymorphy3)\n",
            "  Downloading dawg2_python-0.9.0-py3-none-any.whl.metadata (7.5 kB)\n",
            "Collecting pymorphy3-dicts-ru (from pymorphy3)\n",
            "  Downloading pymorphy3_dicts_ru-2.4.417150.4580142-py2.py3-none-any.whl.metadata (2.0 kB)\n",
            "Downloading razdel-0.5.0-py3-none-any.whl (21 kB)\n",
            "Downloading pymorphy3-2.0.4-py3-none-any.whl (54 kB)\n",
            "\u001b[2K   \u001b[90m━━━━━━━━━━━━━━━━━━━━━━━━━━━━━━━━━━━━━━━━\u001b[0m \u001b[32m54.1/54.1 kB\u001b[0m \u001b[31m3.6 MB/s\u001b[0m eta \u001b[36m0:00:00\u001b[0m\n",
            "\u001b[?25hDownloading dawg2_python-0.9.0-py3-none-any.whl (9.3 kB)\n",
            "Downloading pymorphy3_dicts_ru-2.4.417150.4580142-py2.py3-none-any.whl (8.4 MB)\n",
            "\u001b[2K   \u001b[90m━━━━━━━━━━━━━━━━━━━━━━━━━━━━━━━━━━━━━━━━\u001b[0m \u001b[32m8.4/8.4 MB\u001b[0m \u001b[31m35.2 MB/s\u001b[0m eta \u001b[36m0:00:00\u001b[0m\n",
            "\u001b[?25hInstalling collected packages: razdel, pymorphy3-dicts-ru, dawg2-python, pymorphy3\n",
            "Successfully installed dawg2-python-0.9.0 pymorphy3-2.0.4 pymorphy3-dicts-ru-2.4.417150.4580142 razdel-0.5.0\n"
          ]
        }
      ],
      "execution_count": 5
    },
    {
      "cell_type": "code",
      "source": [
        "# --- Системные и общие ---\n",
        "import pandas as pd\n",
        "import numpy as np\n",
        "import random\n",
        "import matplotlib.pyplot as plt\n",
        "import seaborn as sns\n",
        "from tqdm.notebook import tqdm\n",
        "import warnings\n",
        "from collections import Counter\n",
        "warnings.filterwarnings('ignore')\n",
        "\n",
        "# --- SKlearn ---\n",
        "from sklearn.model_selection import train_test_split\n",
        "from sklearn.feature_extraction.text import TfidfVectorizer\n",
        "from sklearn.linear_model import Ridge\n",
        "from sklearn.metrics import r2_score\n",
        "\n",
        "# --- NLP-инструменты ---\n",
        "import nltk\n",
        "from nltk.corpus import stopwords\n",
        "from razdel import tokenize as razdel_tokenize\n",
        "import pymorphy3\n",
        "from wordcloud import WordCloud\n",
        "\n",
        "# --- PyTorch & Transformers ---\n",
        "import torch\n",
        "from torch import nn\n",
        "import torch.optim as optim\n",
        "from torch.utils.data import Dataset, DataLoader\n",
        "from transformers import AutoTokenizer, Trainer, TrainingArguments, AutoModelForSequenceClassification\n",
        "from datasets import Dataset as HFDataset\n",
        "\n",
        "# --- Визуализация ---\n",
        "from graphviz import Digraph\n",
        "\n",
        "# --- Константы и настройка среды ---\n",
        "RANDOM_STATE = 42\n",
        "np.random.seed(RANDOM_STATE)\n",
        "torch.manual_seed(RANDOM_STATE)\n",
        "\n",
        "# Определяем устройство\n",
        "if torch.backends.mps.is_available():\n",
        "    device = torch.device(\"mps\")\n",
        "    torch.mps.manual_seed(RANDOM_STATE)\n",
        "elif torch.cuda.is_available():\n",
        "    device = torch.device(\"cuda\")\n",
        "    torch.cuda.manual_seed_all(RANDOM_STATE)\n",
        "else:\n",
        "    device = torch.device(\"cpu\")\n",
        "\n",
        "print(f\"✅ Используемое устройство: {device}\")\n",
        "\n",
        "# --- Инициализация лидерборда ---\n",
        "leaderboard = pd.DataFrame(columns=['Метод', 'R2_Score'])"
      ],
      "metadata": {
        "colab": {
          "base_uri": "https://localhost:8080/"
        },
        "id": "7oTO1P3iMMAU",
        "outputId": "c7907f7c-1250-4b53-f1b7-67c37995b014"
      },
      "outputs": [
        {
          "output_type": "stream",
          "name": "stdout",
          "text": [
            "✅ Используемое устройство: cuda\n"
          ]
        }
      ],
      "execution_count": 6
    },
    {
      "cell_type": "code",
      "source": [
        "full_train_df = pd.read_csv(teta_nn_1_2025_path +'/train.csv')\n",
        "test_df = pd.read_csv(teta_nn_1_2025_path +'/test.csv')\n",
        "\n",
        "# Разбиваем исходный train на обучающую и валидационную выборки\n",
        "train_df, val_df = train_test_split(\n",
        "    full_train_df,\n",
        "    test_size=0.25,\n",
        "    random_state=RANDOM_STATE\n",
        ")\n",
        "\n",
        "# Сбрасываем индексы для удобства\n",
        "train_df = train_df.reset_index(drop=True)\n",
        "val_df = val_df.reset_index(drop=True)\n",
        "\n",
        "# Создаем единое текстовое поле для анализа\n",
        "text_cols = ['title', 'location', 'company', 'skills', 'description']\n",
        "for df in [train_df, val_df, test_df]:\n",
        "    # Заполняем пропуски пустыми строками, чтобы избежать ошибок\n",
        "    df[text_cols] = df[text_cols].fillna('')\n",
        "    # Объединяем текстовые колонки через разделитель\n",
        "    df['full_text'] = df[text_cols].agg(' | '.join, axis=1)\n",
        "\n",
        "print(\"Пример данных из train:\")\n",
        "display(train_df[['full_text', 'log_salary_from']].head(3))"
      ],
      "metadata": {
        "colab": {
          "base_uri": "https://localhost:8080/",
          "height": 161
        },
        "id": "HTzHKVtjMQ78",
        "outputId": "e06e552c-94fc-4470-c5b4-cb64c421d29e"
      },
      "outputs": [
        {
          "output_type": "stream",
          "name": "stdout",
          "text": [
            "Пример данных из train:\n"
          ]
        },
        {
          "output_type": "display_data",
          "data": {
            "text/plain": [
              "                                           full_text  log_salary_from\n",
              "0  QA Engineer | Москва (м. Сколково / м. Крылатс...         5.298317\n",
              "1  Senior Backend QA engineer | Санкт-Петербург |...         5.010635\n",
              "2  Python разработчик (Django) | Москва | Hammer ...         3.912023"
            ],
            "text/html": [
              "\n",
              "  <div id=\"df-152b3fee-dd4b-4f1c-be4d-7dbe15bb42ff\" class=\"colab-df-container\">\n",
              "    <div>\n",
              "<style scoped>\n",
              "    .dataframe tbody tr th:only-of-type {\n",
              "        vertical-align: middle;\n",
              "    }\n",
              "\n",
              "    .dataframe tbody tr th {\n",
              "        vertical-align: top;\n",
              "    }\n",
              "\n",
              "    .dataframe thead th {\n",
              "        text-align: right;\n",
              "    }\n",
              "</style>\n",
              "<table border=\"1\" class=\"dataframe\">\n",
              "  <thead>\n",
              "    <tr style=\"text-align: right;\">\n",
              "      <th></th>\n",
              "      <th>full_text</th>\n",
              "      <th>log_salary_from</th>\n",
              "    </tr>\n",
              "  </thead>\n",
              "  <tbody>\n",
              "    <tr>\n",
              "      <th>0</th>\n",
              "      <td>QA Engineer | Москва (м. Сколково / м. Крылатс...</td>\n",
              "      <td>5.298317</td>\n",
              "    </tr>\n",
              "    <tr>\n",
              "      <th>1</th>\n",
              "      <td>Senior Backend QA engineer | Санкт-Петербург |...</td>\n",
              "      <td>5.010635</td>\n",
              "    </tr>\n",
              "    <tr>\n",
              "      <th>2</th>\n",
              "      <td>Python разработчик (Django) | Москва | Hammer ...</td>\n",
              "      <td>3.912023</td>\n",
              "    </tr>\n",
              "  </tbody>\n",
              "</table>\n",
              "</div>\n",
              "    <div class=\"colab-df-buttons\">\n",
              "\n",
              "  <div class=\"colab-df-container\">\n",
              "    <button class=\"colab-df-convert\" onclick=\"convertToInteractive('df-152b3fee-dd4b-4f1c-be4d-7dbe15bb42ff')\"\n",
              "            title=\"Convert this dataframe to an interactive table.\"\n",
              "            style=\"display:none;\">\n",
              "\n",
              "  <svg xmlns=\"http://www.w3.org/2000/svg\" height=\"24px\" viewBox=\"0 -960 960 960\">\n",
              "    <path d=\"M120-120v-720h720v720H120Zm60-500h600v-160H180v160Zm220 220h160v-160H400v160Zm0 220h160v-160H400v160ZM180-400h160v-160H180v160Zm440 0h160v-160H620v160ZM180-180h160v-160H180v160Zm440 0h160v-160H620v160Z\"/>\n",
              "  </svg>\n",
              "    </button>\n",
              "\n",
              "  <style>\n",
              "    .colab-df-container {\n",
              "      display:flex;\n",
              "      gap: 12px;\n",
              "    }\n",
              "\n",
              "    .colab-df-convert {\n",
              "      background-color: #E8F0FE;\n",
              "      border: none;\n",
              "      border-radius: 50%;\n",
              "      cursor: pointer;\n",
              "      display: none;\n",
              "      fill: #1967D2;\n",
              "      height: 32px;\n",
              "      padding: 0 0 0 0;\n",
              "      width: 32px;\n",
              "    }\n",
              "\n",
              "    .colab-df-convert:hover {\n",
              "      background-color: #E2EBFA;\n",
              "      box-shadow: 0px 1px 2px rgba(60, 64, 67, 0.3), 0px 1px 3px 1px rgba(60, 64, 67, 0.15);\n",
              "      fill: #174EA6;\n",
              "    }\n",
              "\n",
              "    .colab-df-buttons div {\n",
              "      margin-bottom: 4px;\n",
              "    }\n",
              "\n",
              "    [theme=dark] .colab-df-convert {\n",
              "      background-color: #3B4455;\n",
              "      fill: #D2E3FC;\n",
              "    }\n",
              "\n",
              "    [theme=dark] .colab-df-convert:hover {\n",
              "      background-color: #434B5C;\n",
              "      box-shadow: 0px 1px 3px 1px rgba(0, 0, 0, 0.15);\n",
              "      filter: drop-shadow(0px 1px 2px rgba(0, 0, 0, 0.3));\n",
              "      fill: #FFFFFF;\n",
              "    }\n",
              "  </style>\n",
              "\n",
              "    <script>\n",
              "      const buttonEl =\n",
              "        document.querySelector('#df-152b3fee-dd4b-4f1c-be4d-7dbe15bb42ff button.colab-df-convert');\n",
              "      buttonEl.style.display =\n",
              "        google.colab.kernel.accessAllowed ? 'block' : 'none';\n",
              "\n",
              "      async function convertToInteractive(key) {\n",
              "        const element = document.querySelector('#df-152b3fee-dd4b-4f1c-be4d-7dbe15bb42ff');\n",
              "        const dataTable =\n",
              "          await google.colab.kernel.invokeFunction('convertToInteractive',\n",
              "                                                    [key], {});\n",
              "        if (!dataTable) return;\n",
              "\n",
              "        const docLinkHtml = 'Like what you see? Visit the ' +\n",
              "          '<a target=\"_blank\" href=https://colab.research.google.com/notebooks/data_table.ipynb>data table notebook</a>'\n",
              "          + ' to learn more about interactive tables.';\n",
              "        element.innerHTML = '';\n",
              "        dataTable['output_type'] = 'display_data';\n",
              "        await google.colab.output.renderOutput(dataTable, element);\n",
              "        const docLink = document.createElement('div');\n",
              "        docLink.innerHTML = docLinkHtml;\n",
              "        element.appendChild(docLink);\n",
              "      }\n",
              "    </script>\n",
              "  </div>\n",
              "\n",
              "\n",
              "    <div id=\"df-b4b80f92-fe6e-4891-ac45-25fed326ef29\">\n",
              "      <button class=\"colab-df-quickchart\" onclick=\"quickchart('df-b4b80f92-fe6e-4891-ac45-25fed326ef29')\"\n",
              "                title=\"Suggest charts\"\n",
              "                style=\"display:none;\">\n",
              "\n",
              "<svg xmlns=\"http://www.w3.org/2000/svg\" height=\"24px\"viewBox=\"0 0 24 24\"\n",
              "     width=\"24px\">\n",
              "    <g>\n",
              "        <path d=\"M19 3H5c-1.1 0-2 .9-2 2v14c0 1.1.9 2 2 2h14c1.1 0 2-.9 2-2V5c0-1.1-.9-2-2-2zM9 17H7v-7h2v7zm4 0h-2V7h2v10zm4 0h-2v-4h2v4z\"/>\n",
              "    </g>\n",
              "</svg>\n",
              "      </button>\n",
              "\n",
              "<style>\n",
              "  .colab-df-quickchart {\n",
              "      --bg-color: #E8F0FE;\n",
              "      --fill-color: #1967D2;\n",
              "      --hover-bg-color: #E2EBFA;\n",
              "      --hover-fill-color: #174EA6;\n",
              "      --disabled-fill-color: #AAA;\n",
              "      --disabled-bg-color: #DDD;\n",
              "  }\n",
              "\n",
              "  [theme=dark] .colab-df-quickchart {\n",
              "      --bg-color: #3B4455;\n",
              "      --fill-color: #D2E3FC;\n",
              "      --hover-bg-color: #434B5C;\n",
              "      --hover-fill-color: #FFFFFF;\n",
              "      --disabled-bg-color: #3B4455;\n",
              "      --disabled-fill-color: #666;\n",
              "  }\n",
              "\n",
              "  .colab-df-quickchart {\n",
              "    background-color: var(--bg-color);\n",
              "    border: none;\n",
              "    border-radius: 50%;\n",
              "    cursor: pointer;\n",
              "    display: none;\n",
              "    fill: var(--fill-color);\n",
              "    height: 32px;\n",
              "    padding: 0;\n",
              "    width: 32px;\n",
              "  }\n",
              "\n",
              "  .colab-df-quickchart:hover {\n",
              "    background-color: var(--hover-bg-color);\n",
              "    box-shadow: 0 1px 2px rgba(60, 64, 67, 0.3), 0 1px 3px 1px rgba(60, 64, 67, 0.15);\n",
              "    fill: var(--button-hover-fill-color);\n",
              "  }\n",
              "\n",
              "  .colab-df-quickchart-complete:disabled,\n",
              "  .colab-df-quickchart-complete:disabled:hover {\n",
              "    background-color: var(--disabled-bg-color);\n",
              "    fill: var(--disabled-fill-color);\n",
              "    box-shadow: none;\n",
              "  }\n",
              "\n",
              "  .colab-df-spinner {\n",
              "    border: 2px solid var(--fill-color);\n",
              "    border-color: transparent;\n",
              "    border-bottom-color: var(--fill-color);\n",
              "    animation:\n",
              "      spin 1s steps(1) infinite;\n",
              "  }\n",
              "\n",
              "  @keyframes spin {\n",
              "    0% {\n",
              "      border-color: transparent;\n",
              "      border-bottom-color: var(--fill-color);\n",
              "      border-left-color: var(--fill-color);\n",
              "    }\n",
              "    20% {\n",
              "      border-color: transparent;\n",
              "      border-left-color: var(--fill-color);\n",
              "      border-top-color: var(--fill-color);\n",
              "    }\n",
              "    30% {\n",
              "      border-color: transparent;\n",
              "      border-left-color: var(--fill-color);\n",
              "      border-top-color: var(--fill-color);\n",
              "      border-right-color: var(--fill-color);\n",
              "    }\n",
              "    40% {\n",
              "      border-color: transparent;\n",
              "      border-right-color: var(--fill-color);\n",
              "      border-top-color: var(--fill-color);\n",
              "    }\n",
              "    60% {\n",
              "      border-color: transparent;\n",
              "      border-right-color: var(--fill-color);\n",
              "    }\n",
              "    80% {\n",
              "      border-color: transparent;\n",
              "      border-right-color: var(--fill-color);\n",
              "      border-bottom-color: var(--fill-color);\n",
              "    }\n",
              "    90% {\n",
              "      border-color: transparent;\n",
              "      border-bottom-color: var(--fill-color);\n",
              "    }\n",
              "  }\n",
              "</style>\n",
              "\n",
              "      <script>\n",
              "        async function quickchart(key) {\n",
              "          const quickchartButtonEl =\n",
              "            document.querySelector('#' + key + ' button');\n",
              "          quickchartButtonEl.disabled = true;  // To prevent multiple clicks.\n",
              "          quickchartButtonEl.classList.add('colab-df-spinner');\n",
              "          try {\n",
              "            const charts = await google.colab.kernel.invokeFunction(\n",
              "                'suggestCharts', [key], {});\n",
              "          } catch (error) {\n",
              "            console.error('Error during call to suggestCharts:', error);\n",
              "          }\n",
              "          quickchartButtonEl.classList.remove('colab-df-spinner');\n",
              "          quickchartButtonEl.classList.add('colab-df-quickchart-complete');\n",
              "        }\n",
              "        (() => {\n",
              "          let quickchartButtonEl =\n",
              "            document.querySelector('#df-b4b80f92-fe6e-4891-ac45-25fed326ef29 button');\n",
              "          quickchartButtonEl.style.display =\n",
              "            google.colab.kernel.accessAllowed ? 'block' : 'none';\n",
              "        })();\n",
              "      </script>\n",
              "    </div>\n",
              "    </div>\n",
              "  </div>\n"
            ],
            "application/vnd.google.colaboratory.intrinsic+json": {
              "type": "dataframe",
              "summary": "{\n  \"name\": \"display(train_df[['full_text', 'log_salary_from']]\",\n  \"rows\": 3,\n  \"fields\": [\n    {\n      \"column\": \"full_text\",\n      \"properties\": {\n        \"dtype\": \"string\",\n        \"num_unique_values\": 3,\n        \"samples\": [\n          \"QA Engineer | \\u041c\\u043e\\u0441\\u043a\\u0432\\u0430 (\\u043c. \\u0421\\u043a\\u043e\\u043b\\u043a\\u043e\\u0432\\u043e / \\u043c. \\u041a\\u0440\\u044b\\u043b\\u0430\\u0442\\u0441\\u043a\\u043e\\u0435) | getmatch agency | Python, Java, Go, C# | \\u041d\\u0430\\u0448\\u0430 \\u043a\\u043e\\u043c\\u043f\\u0430\\u043d\\u0438\\u044f \\u0441\\u043e\\u0445\\u0440\\u0430\\u043d\\u044f\\u0435\\u0442 \\u0430\\u0442\\u043c\\u043e\\u0441\\u0444\\u0435\\u0440\\u0443 \\u0441\\u0442\\u0430\\u0440\\u0442\\u0430\\u043f\\u0430, \\u043e\\u0431\\u0435\\u0441\\u043f\\u0435\\u0447\\u0438\\u0432\\u0430\\u044f \\u0434\\u0438\\u043d\\u0430\\u043c\\u0438\\u0447\\u043d\\u043e\\u0441\\u0442\\u044c \\u0438 \\u0441\\u0442\\u0440\\u0435\\u043c\\u043b\\u0435\\u043d\\u0438\\u0435 \\u043a \\u0440\\u0435\\u0437\\u0443\\u043b\\u044c\\u0442\\u0430\\u0442\\u0430\\u043c \\u0432 \\u0441\\u043e\\u0447\\u0435\\u0442\\u0430\\u043d\\u0438\\u0438 \\u0441 \\u043a\\u043e\\u043c\\u0444\\u043e\\u0440\\u0442\\u043e\\u043c \\u0438 \\u0441\\u0442\\u0430\\u0431\\u0438\\u043b\\u044c\\u043d\\u043e\\u0441\\u0442\\u044c\\u044e \\u043a\\u043e\\u0440\\u043f\\u043e\\u0440\\u0430\\u0442\\u0438\\u0432\\u043d\\u043e\\u0439 \\u0441\\u0440\\u0435\\u0434\\u044b. \\u041c\\u044b \\u0442\\u0440\\u0443\\u0434\\u0438\\u043c\\u0441\\u044f \\u043d\\u0430\\u0434 \\u0441\\u043e\\u0437\\u0434\\u0430\\u043d\\u0438\\u0435\\u043c \\u0431\\u0443\\u0434\\u0443\\u0449\\u0435\\u0433\\u043e \\u0440\\u043e\\u0441\\u0441\\u0438\\u0439\\u0441\\u043a\\u043e\\u0439 \\u043c\\u043e\\u0431\\u0438\\u043b\\u044c\\u043d\\u043e\\u0439 \\u0441\\u0432\\u044f\\u0437\\u0438.\\n\\u041d\\u0430\\u0448 \\u043a\\u043b\\u044e\\u0447\\u0435\\u0432\\u043e\\u0439 \\u043f\\u0440\\u043e\\u0434\\u0443\\u043a\\u0442 \\u0434\\u043b\\u044f \\u0440\\u043e\\u0441\\u0441\\u0438\\u0439\\u0441\\u043a\\u0438\\u0445 \\u043e\\u043f\\u0435\\u0440\\u0430\\u0442\\u043e\\u0440\\u043e\\u0432 \\u2014 \\u0431\\u0430\\u0437\\u043e\\u0432\\u0430\\u044f \\u0441\\u0442\\u0430\\u043d\\u0446\\u0438\\u044f LTE/5G, \\u0440\\u0430\\u0437\\u0440\\u0430\\u0431\\u043e\\u0442\\u0430\\u043d\\u043d\\u0430\\u044f \\u043d\\u0430 \\u043e\\u0441\\u043d\\u043e\\u0432\\u0435 \\u043f\\u0440\\u0438\\u043d\\u0446\\u0438\\u043f\\u043e\\u0432 \\u043e\\u0442\\u043a\\u0440\\u044b\\u0442\\u043e\\u0439 \\u0430\\u0440\\u0445\\u0438\\u0442\\u0435\\u043a\\u0442\\u0443\\u0440\\u044b Open RAN.\\n\\u041f\\u0440\\u0438\\u0433\\u043b\\u0430\\u0448\\u0430\\u0435\\u043c \\u0442\\u0430\\u043b\\u0430\\u043d\\u0442\\u043b\\u0438\\u0432\\u044b\\u0445 \\u0441\\u043f\\u0435\\u0446\\u0438\\u0430\\u043b\\u0438\\u0441\\u0442\\u043e\\u0432 \\u043f\\u0440\\u0438\\u0441\\u043e\\u0435\\u0434\\u0438\\u043d\\u0438\\u0442\\u044c\\u0441\\u044f \\u043a \\u043d\\u0430\\u0448\\u0435\\u0439 \\u043a\\u043e\\u043c\\u0430\\u043d\\u0434\\u0435. \\u041c\\u044b \\u0438\\u0449\\u0435\\u043c \\u043d\\u0435 \\u043f\\u0440\\u043e\\u0441\\u0442\\u043e \\u0441\\u043e\\u0442\\u0440\\u0443\\u0434\\u043d\\u0438\\u043a\\u043e\\u0432, \\u0430 \\u0441\\u0442\\u043e\\u0440\\u043e\\u043d\\u043d\\u0438\\u043a\\u043e\\u0432, \\u0440\\u0430\\u0437\\u0434\\u0435\\u043b\\u044f\\u044e\\u0449\\u0438\\u0445 \\u043d\\u0430\\u0448\\u0443 \\u0441\\u0442\\u0440\\u0430\\u0441\\u0442\\u044c \\u043a \\u043f\\u0440\\u043e\\u0433\\u0440\\u0435\\u0441\\u0441\\u0443 \\u0438 \\u0438\\u043d\\u043d\\u043e\\u0432\\u0430\\u0446\\u0438\\u044f\\u043c.\\n\\u0427\\u0435\\u043c \\u043f\\u0440\\u0435\\u0434\\u0441\\u0442\\u043e\\u0438\\u0442 \\u0437\\u0430\\u043d\\u0438\\u043c\\u0430\\u0442\\u044c\\u0441\\u044f\\n\\u0423\\u0447\\u0430\\u0441\\u0442\\u0432\\u043e\\u0432\\u0430\\u0442\\u044c \\u0432 \\u043f\\u0440\\u043e\\u0446\\u0435\\u0441\\u0441\\u0430\\u0445 \\u043a\\u043e\\u043d\\u0442\\u0440\\u043e\\u043b\\u044f \\u043a\\u0430\\u0447\\u0435\\u0441\\u0442\\u0432\\u0430 \\u043d\\u0430 \\u0440\\u0430\\u0437\\u043d\\u044b\\u0445 \\u044d\\u0442\\u0430\\u043f\\u0430\\u0445 \\u0436\\u0438\\u0437\\u043d\\u0435\\u043d\\u043d\\u043e\\u0433\\u043e \\u0446\\u0438\\u043a\\u043b\\u0430 \\u041f\\u041e.\\n\\u0420\\u0430\\u0437\\u0440\\u0430\\u0431\\u0430\\u0442\\u044b\\u0432\\u0430\\u0442\\u044c \\u0441\\u0440\\u0435\\u0434\\u0441\\u0442\\u0432\\u0430 \\u0430\\u0432\\u0442\\u043e\\u043c\\u0430\\u0442\\u0438\\u0437\\u0430\\u0446\\u0438\\u0438 \\u0444\\u0443\\u043d\\u043a\\u0446\\u0438\\u043e\\u043d\\u0430\\u043b\\u044c\\u043d\\u043e\\u0433\\u043e \\u0438 \\u043d\\u0430\\u0433\\u0440\\u0443\\u0437\\u043e\\u0447\\u043d\\u043e\\u0433\\u043e \\u0442\\u0435\\u0441\\u0442\\u0438\\u0440\\u043e\\u0432\\u0430\\u043d\\u0438\\u044f \\u041f\\u041e.\\n\\u0420\\u0430\\u0437\\u0440\\u0430\\u0431\\u0430\\u0442\\u044b\\u0432\\u0430\\u0442\\u044c \\u0442\\u0435\\u0441\\u0442\\u043e\\u0432\\u0443\\u044e \\u0434\\u043e\\u043a\\u0443\\u043c\\u0435\\u043d\\u0442\\u0430\\u0446\\u0438\\u044e.\\n\\u0423\\u0447\\u0430\\u0441\\u0442\\u0432\\u043e\\u0432\\u0430\\u0442\\u044c \\u0432 \\u043b\\u0430\\u0431\\u043e\\u0440\\u0430\\u0442\\u043e\\u0440\\u043d\\u044b\\u0445 \\u0438 \\u043f\\u0440\\u0438\\u0451\\u043c\\u043e\\u0447\\u043d\\u044b\\u0445 \\u0438\\u0441\\u043f\\u044b\\u0442\\u0430\\u043d\\u0438\\u044f\\u0445, \\u0430 \\u0442\\u0430\\u043a\\u0436\\u0435 \\u0441\\u043e\\u0441\\u0442\\u0430\\u0432\\u043b\\u044f\\u0442\\u044c \\u043e\\u0442\\u0447\\u0451\\u0442\\u043d\\u0443\\u044e \\u0434\\u043e\\u043a\\u0443\\u043c\\u0435\\u043d\\u0442\\u0430\\u0446\\u0438\\u044e \\u043f\\u043e \\u0438\\u0445 \\u0440\\u0435\\u0437\\u0443\\u043b\\u044c\\u0442\\u0430\\u0442\\u0430\\u043c.\\n\\u041e\\u0436\\u0438\\u0434\\u0430\\u043d\\u0438\\u044f\\n\\u0413\\u043e\\u0442\\u043e\\u0432\\u043d\\u043e\\u0441\\u0442\\u044c \\u0440\\u0430\\u0431\\u043e\\u0442\\u0430\\u0442\\u044c \\u043d\\u0430 C#.\\n\\u041e\\u043f\\u044b\\u0442 \\u0430\\u0432\\u0442\\u043e\\u043c\\u0430\\u0442\\u0438\\u0437\\u0430\\u0446\\u0438\\u0438 \\u043e\\u0442 3-\\u0445 \\u043b\\u0435\\u0442 \\u043d\\u0430 \\u043e\\u0434\\u043d\\u043e\\u043c \\u0438\\u0437 \\u044f\\u0437\\u044b\\u043a\\u043e\\u0432: Python, Java, Go, C#, \\u0441 \\u0438\\u0441\\u043f\\u043e\\u043b\\u044c\\u0437\\u043e\\u0432\\u0430\\u043d\\u0438\\u0435\\u043c \\u0442\\u0435\\u0441\\u0442\\u043e\\u0432\\u044b\\u0445 \\u0444\\u0440\\u0435\\u0439\\u043c\\u0432\\u043e\\u0440\\u043a\\u043e\\u0432: GTest/Robot/xUnit \\u0438\\u043b\\u0438 \\u043f\\u043e\\u0434\\u043e\\u0431\\u043d\\u044b\\u0445, \\u0430 \\u0442\\u0430\\u043a\\u0436\\u0435 \\u0441 \\u0438\\u0441\\u043f\\u043e\\u043b\\u044c\\u0437\\u043e\\u0432\\u0430\\u043d\\u0438\\u0435\\u043c \\u041f\\u041e \\u043d\\u0435\\u043f\\u0440\\u0435\\u0440\\u044b\\u0432\\u043d\\u043e\\u0439 \\u0438\\u043d\\u0442\\u0435\\u0433\\u0440\\u0430\\u0446\\u0438\\u0438: GitLab/TeamCity/Jenkins. \\u0418\\u043b\\u0438 \\u0433\\u043e\\u0442\\u043e\\u0432\\u043d\\u043e\\u0441\\u0442\\u044c \\u043f\\u0435\\u0440\\u0435\\u0439\\u0442\\u0438 \\u0432 \\u0430\\u0432\\u0442\\u043e\\u043c\\u0430\\u0442\\u0438\\u0437\\u0430\\u0446\\u0438\\u044e.\\n\\u0413\\u043e\\u0442\\u043e\\u0432\\u043d\\u043e\\u0441\\u0442\\u044c \\u0440\\u0430\\u0431\\u043e\\u0442\\u0430\\u0442\\u044c \\u0432 \\u043e\\u0444\\u0438\\u0441\\u0435 \\u0441 \\u0440\\u0435\\u0430\\u043b\\u044c\\u043d\\u044b\\u043c \\u043e\\u0431\\u043e\\u0440\\u0443\\u0434\\u043e\\u0432\\u0430\\u043d\\u0438\\u0435\\u043c, \\u0434\\u0438\\u0441\\u0446\\u0438\\u043f\\u043b\\u0438\\u043d\\u0430 \\u0438 \\u043e\\u0431\\u0443\\u0447\\u0430\\u0435\\u043c\\u043e\\u0441\\u0442\\u044c.\\n\\u0413\\u0440\\u0430\\u043c\\u043e\\u0442\\u043d\\u0430\\u044f \\u0443\\u0441\\u0442\\u043d\\u0430\\u044f \\u0438 \\u043f\\u0438\\u0441\\u044c\\u043c\\u0435\\u043d\\u043d\\u0430\\u044f \\u0440\\u0435\\u0447\\u044c, \\u0430\\u043d\\u0433\\u043b\\u0438\\u0439\\u0441\\u043a\\u0438\\u0439 \\u043d\\u0430 \\u0443\\u0440\\u043e\\u0432\\u043d\\u0435 \\u0447\\u0442\\u0435\\u043d\\u0438\\u044f \\u0442\\u0435\\u0445\\u043d\\u0438\\u0447\\u0435\\u0441\\u043a\\u043e\\u0439 \\u0434\\u043e\\u043a\\u0443\\u043c\\u0435\\u043d\\u0442\\u0430\\u0446\\u0438\\u0438.\\n\\u0423\\u0432\\u0435\\u0440\\u0435\\u043d\\u043d\\u044b\\u0439 \\u043f\\u043e\\u043b\\u044c\\u0437\\u043e\\u0432\\u0430\\u0442\\u0435\\u043b\\u044c Linux: \\u0440\\u0430\\u0431\\u043e\\u0442\\u0430 \\u0441 CentOS, Ubuntu (Administration, Network, Bash).\\n\\u0423\\u0432\\u0435\\u0440\\u0435\\u043d\\u043d\\u044b\\u0435 \\u0437\\u043d\\u0430\\u043d\\u0438\\u044f \\u0432 \\u043e\\u0431\\u043b\\u0430\\u0441\\u0442\\u0438 \\u043e\\u0440\\u0433\\u0430\\u043d\\u0438\\u0437\\u0430\\u0446\\u0438\\u0438 \\u0441\\u0435\\u0442\\u0435\\u0439 \\u043f\\u0435\\u0440\\u0435\\u0434\\u0430\\u0447\\u0438 \\u0434\\u0430\\u043d\\u043d\\u044b\\u0445.\\n\\u0423\\u0432\\u0435\\u0440\\u0435\\u043d\\u043d\\u044b\\u0435 \\u0437\\u043d\\u0430\\u043d\\u0438\\u044f \\u0432 \\u043e\\u0431\\u043b\\u0430\\u0441\\u0442\\u0438 \\u043e\\u0440\\u0433\\u0430\\u043d\\u0438\\u0437\\u0430\\u0446\\u0438\\u0438 \\u043f\\u0440\\u043e\\u0446\\u0435\\u0441\\u0441\\u043e\\u0432 \\u0440\\u0430\\u0437\\u0440\\u0430\\u0431\\u043e\\u0442\\u043a\\u0438, \\u043a\\u043e\\u043d\\u0442\\u0440\\u043e\\u043b\\u044f \\u043a\\u0430\\u0447\\u0435\\u0441\\u0442\\u0432\\u0430 \\u041f\\u041e, \\u0430 \\u0442\\u0430\\u043a\\u0436\\u0435 \\u0436\\u0438\\u0437\\u043d\\u0435\\u043d\\u043d\\u043e\\u0433\\u043e \\u0446\\u0438\\u043a\\u043b\\u0430 \\u041f\\u041e.\\n\\u041e\\u043f\\u044b\\u0442 \\u0440\\u0430\\u0431\\u043e\\u0442\\u044b \\u0441 \\u0438\\u043d\\u0444\\u0440\\u0430\\u0441\\u0442\\u0440\\u0443\\u043a\\u0442\\u0443\\u0440\\u043e\\u0439 \\u0432\\u0438\\u0440\\u0442\\u0443\\u0430\\u043b\\u0438\\u0437\\u0430\\u0446\\u0438\\u0438 \\u0438 \\u043a\\u043e\\u043d\\u0442\\u0435\\u0439\\u043d\\u0435\\u0440\\u0438\\u0437\\u0430\\u0446\\u0438\\u0438: VMware ESXi, KVM like, Docker, Kubernetes.\\n\\u0411\\u0443\\u0434\\u0435\\u0442 \\u043f\\u043b\\u044e\\u0441\\u043e\\u043c:\\n\\u041e\\u043f\\u044b\\u0442 \\u0440\\u0430\\u0431\\u043e\\u0442\\u044b \\u0432 \\u0442\\u0435\\u043b\\u0435\\u043a\\u043e\\u043c\\u043c\\u0443\\u043d\\u0438\\u043a\\u0430\\u0446\\u0438\\u043e\\u043d\\u043d\\u044b\\u0445 \\u043a\\u043e\\u043c\\u043f\\u0430\\u043d\\u0438\\u044f\\u0445, \\u0440\\u0430\\u0437\\u0440\\u0430\\u0431\\u0430\\u0442\\u044b\\u0432\\u0430\\u044e\\u0449\\u0438\\u0445 \\u041f\\u041e \\u0432\\u0438\\u0440\\u0442\\u0443\\u0430\\u043b\\u0438\\u0437\\u0430\\u0446\\u0438\\u0438 \\u0438\\u043b\\u0438 \\u0443\\u043f\\u0440\\u0430\\u0432\\u043b\\u0435\\u043d\\u0438\\u044f \\u0438\\u043d\\u0444\\u0440\\u0430\\u0441\\u0442\\u0440\\u0443\\u043a\\u0442\\u0443\\u0440\\u043e\\u0439 \\u0438 \\u0442\\u0435\\u043b\\u0435\\u043a\\u043e\\u043c \\u043e\\u0431\\u043e\\u0440\\u0443\\u0434\\u043e\\u0432\\u0430\\u043d\\u0438\\u0435\\u043c.\\n\\u041e\\u043f\\u044b\\u0442 \\u0442\\u0435\\u0441\\u0442\\u0438\\u0440\\u043e\\u0432\\u0430\\u043d\\u0438\\u044f \\u0441 \\u0432\\u0441\\u0442\\u0440\\u0430\\u0438\\u0432\\u0430\\u0435\\u043c\\u044b\\u043c\\u0438 \\u043f\\u043b\\u0430\\u0442\\u0444\\u043e\\u0440\\u043c\\u0430\\u043c\\u0438 \\u0438\\u043b\\u0438 ARM.\\n\\u041e\\u043f\\u044b\\u0442 \\u0440\\u0430\\u0431\\u043e\\u0442\\u044b \\u0441 \\u0442\\u0435\\u043b\\u0435\\u043a\\u043e\\u043c\\u043c\\u0443\\u043d\\u0438\\u043a\\u0430\\u0446\\u0438\\u043e\\u043d\\u043d\\u044b\\u043c \\u043e\\u0431\\u043e\\u0440\\u0443\\u0434\\u043e\\u0432\\u0430\\u043d\\u0438\\u0435\\u043c.\\n\\u041e\\u043f\\u044b\\u0442 \\u0447\\u0442\\u0435\\u043d\\u0438\\u044f \\u0438 \\u043c\\u043e\\u0434\\u0438\\u0444\\u0438\\u043a\\u0430\\u0446\\u0438\\u0438 \\u0447\\u0443\\u0436\\u043e\\u0433\\u043e \\u043a\\u043e\\u0434\\u0430.\\n\\u0423\\u0441\\u043b\\u043e\\u0432\\u0438\\u044f\\n\\u041f\\u0440\\u043e\\u0444\\u0435\\u0441\\u0441\\u0438\\u043e\\u043d\\u0430\\u043b\\u044c\\u043d\\u044b\\u0435 \\u0433\\u0438\\u043b\\u044c\\u0434\\u0438\\u0438 \\u0438\\u043d\\u0436\\u0435\\u043d\\u0435\\u0440\\u043e\\u0432 \\u043f\\u043e \\u043d\\u0430\\u043f\\u0440\\u0430\\u0432\\u043b\\u0435\\u043d\\u0438\\u044f\\u043c, \\u0447\\u0442\\u043e\\u0431\\u044b \\u043f\\u043e\\u0434\\u0434\\u0435\\u0440\\u0436\\u0438\\u0432\\u0430\\u0442\\u044c \\u0434\\u0440\\u0443\\u0433 \\u0434\\u0440\\u0443\\u0433\\u0430 \\u0438 \\u043e\\u0431\\u043c\\u0435\\u043d\\u0438\\u0432\\u0430\\u0442\\u044c\\u0441\\u044f \\u043e\\u043f\\u044b\\u0442\\u043e\\u043c.\\n\\u0423\\u0447\\u0430\\u0441\\u0442\\u0438\\u0435 \\u0432\\u043e \\u0432\\u043d\\u0435\\u0448\\u043d\\u0438\\u0445 IT-\\u043a\\u043e\\u043d\\u0444\\u0435\\u0440\\u0435\\u043d\\u0446\\u0438\\u044f\\u0445. \\u041c\\u044b \\u0432\\u044b\\u0441\\u0442\\u0443\\u043f\\u0430\\u0435\\u043c \\u043d\\u0430 HighLoad++, DataFest, Mobius, Test Driven Conf, Joker, DevOps, \\u041c\\u0430\\u0442\\u0435\\u043c\\u0430\\u0440\\u043a\\u0435\\u0442\\u0438\\u043d\\u0433 \\u0438 \\u0434\\u0430\\u0436\\u0435 \\u043f\\u0440\\u043e\\u0432\\u043e\\u0434\\u0438\\u043c \\u0441\\u043e\\u0431\\u0441\\u0442\\u0432\\u0435\\u043d\\u043d\\u0443\\u044e \\u043a\\u043e\\u043d\\u0444\\u0435\\u0440\\u0435\\u043d\\u0446\\u0438\\u044e \\u043f\\u043e \\u0430\\u0440\\u0445\\u0438\\u0442\\u0435\\u043a\\u0442\\u0443\\u0440\\u0435 Hello, conference.\\n\\u041f\\u043e\\u043b\\u0435\\u0437\\u043d\\u044b\\u0435 \\u043a\\u0443\\u0440\\u0441\\u044b \\u0438 \\u0432\\u0435\\u0431\\u0438\\u043d\\u0430\\u0440\\u044b \\u0432 \\u043a\\u043e\\u0440\\u043f\\u043e\\u0440\\u0430\\u0442\\u0438\\u0432\\u043d\\u043e\\u043c \\u0443\\u043d\\u0438\\u0432\\u0435\\u0440\\u0441\\u0438\\u0442\\u0435\\u0442\\u0435 \\u0438 \\u044d\\u043b\\u0435\\u043a\\u0442\\u0440\\u043e\\u043d\\u043d\\u044b\\u0435 \\u0431\\u0438\\u0431\\u043b\\u0438\\u043e\\u0442\\u0435\\u043a\\u0438.\\n\\u0410 \\u0435\\u0449\\u0435:\\n\\u041c\\u0435\\u0434\\u0438\\u0446\\u0438\\u043d\\u0441\\u043a\\u0430\\u044f \\u0441\\u0442\\u0440\\u0430\\u0445\\u043e\\u0432\\u043a\\u0430 \\u043f\\u043e\\u0441\\u043b\\u0435 \\u0438\\u0441\\u043f\\u044b\\u0442\\u0430\\u0442\\u0435\\u043b\\u044c\\u043d\\u043e\\u0433\\u043e \\u0441\\u0440\\u043e\\u043a\\u0430 \\u0441\\u043e 100% \\u043f\\u043e\\u043a\\u0440\\u044b\\u0442\\u0438\\u0435\\u043c \\u0440\\u0430\\u0441\\u0445\\u043e\\u0434\\u043e\\u0432, \\u0432\\u043a\\u043b\\u044e\\u0447\\u0430\\u044f \\u0441\\u0442\\u043e\\u043c\\u0430\\u0442\\u043e\\u043b\\u043e\\u0433\\u0438\\u044e, \\u0441\\u0442\\u0440\\u0430\\u0445\\u043e\\u0432\\u0430\\u043d\\u0438\\u0435 \\u0436\\u0438\\u0437\\u043d\\u0438 \\u0438 \\u0437\\u0434\\u043e\\u0440\\u043e\\u0432\\u044c\\u044f \\u0432 \\u043f\\u043e\\u0435\\u0437\\u0434\\u043a\\u0430\\u0445 \\u0437\\u0430 \\u0440\\u0443\\u0431\\u0435\\u0436. \\u0410 \\u0435\\u0449\\u0435 \\u043c\\u043e\\u0436\\u043d\\u043e \\u0437\\u0430\\u0441\\u0442\\u0440\\u0430\\u0445\\u043e\\u0432\\u0430\\u0442\\u044c \\u0440\\u043e\\u0434\\u0441\\u0442\\u0432\\u0435\\u043d\\u043d\\u0438\\u043a\\u043e\\u0432 \\u0441 \\u043a\\u043e\\u0440\\u043f\\u043e\\u0440\\u0430\\u0442\\u0438\\u0432\\u043d\\u043e\\u0439 \\u0441\\u043a\\u0438\\u0434\\u043a\\u043e\\u0439.\\n\\u0421\\u043a\\u0438\\u0434\\u043a\\u0438 \\u0438 \\u043f\\u0440\\u0435\\u0434\\u043b\\u043e\\u0436\\u0435\\u043d\\u0438\\u044f \\u043e\\u0442 \\u043f\\u0430\\u0440\\u0442\\u043d\\u0435\\u0440\\u043e\\u0432 \\u043d\\u0430 \\u0444\\u0438\\u0442\\u043d\\u0435\\u0441, \\u0437\\u0430\\u043d\\u044f\\u0442\\u0438\\u044f \\u0430\\u043d\\u0433\\u043b\\u0438\\u0439\\u0441\\u043a\\u0438\\u043c \\u0438 \\u043f\\u0440\\u043e\\u0447\\u0435\\u0435.\",\n          \"Senior\\u00a0Backend\\u00a0QA\\u00a0engineer | \\u0421\\u0430\\u043d\\u043a\\u0442-\\u041f\\u0435\\u0442\\u0435\\u0440\\u0431\\u0443\\u0440\\u0433 | \\u042e\\u0414\\u0421 \\u041c\\u0435\\u0434\\u0438\\u0430 |  | \\u041f\\u0440\\u0438\\u0432\\u0435\\u0442! \\u041c\\u044b \\u2014  UDS Media \\u2014 \\u0430\\u043a\\u043a\\u0440\\u0435\\u0434\\u0438\\u0442\\u043e\\u0432\\u0430\\u043d\\u043d\\u0430\\u044f IT-\\u043a\\u043e\\u043c\\u043f\\u0430\\u043d\\u0438\\u044f , \\u043a\\u043e\\u0442\\u043e\\u0440\\u0430\\u044f \\u0441 2012 \\u0433\\u043e\\u0434\\u0430 \\u0440\\u0430\\u0437\\u0440\\u0430\\u0431\\u0430\\u0442\\u044b\\u0432\\u0430\\u0435\\u0442 \\u0432\\u044b\\u0441\\u043e\\u043a\\u043e\\u043d\\u0430\\u0433\\u0440\\u0443\\u0436\\u0435\\u043d\\u043d\\u044b\\u0435 \\u0441\\u0435\\u0440\\u0432\\u0438\\u0441\\u044b \\u0434\\u043b\\u044f \\u043c\\u043e\\u0431\\u0438\\u043b\\u044c\\u043d\\u044b\\u0445 \\u043e\\u043f\\u0435\\u0440\\u0430\\u0442\\u043e\\u0440\\u043e\\u0432, \\u0430 \\u0442\\u0430\\u043a\\u0436\\u0435 \\u043a\\u0440\\u0443\\u043f\\u043d\\u044b\\u0445 \\u043f\\u0440\\u0435\\u0434\\u043f\\u0440\\u0438\\u044f\\u0442\\u0438\\u0439 \\u0438 \\u0433\\u043e\\u0441\\u0443\\u0434\\u0430\\u0440\\u0441\\u0442\\u0432\\u0435\\u043d\\u043d\\u044b\\u0445 \\u0437\\u0430\\u043a\\u0430\\u0437\\u0447\\u0438\\u043a\\u043e\\u0432. \\u0420\\u0430\\u0431\\u043e\\u0442\\u0430\\u0435\\u043c \\u0441 \\u041c\\u0435\\u0433\\u0430\\u0444\\u043e\\u043d\\u043e\\u043c, \\u0411\\u0438\\u043b\\u0430\\u0439\\u043d\\u043e\\u043c, \\u041c\\u0422\\u0421, \\u0422\\u0435\\u043b\\u04352, Ucell, \\u0430 \\u0442\\u0430\\u043a\\u0436\\u0435 \\u0414\\u0435\\u043f\\u0430\\u0440\\u0442\\u0430\\u043c\\u0435\\u043d\\u0442\\u043e\\u043c \\u0438\\u043d\\u0444\\u043e\\u0440\\u043c\\u0430\\u0446\\u0438\\u043e\\u043d\\u043d\\u044b\\u0445 \\u0442\\u0435\\u0445\\u043d\\u043e\\u043b\\u043e\\u0433\\u0438\\u0439 \\u041c\\u043e\\u0441\\u043a\\u0432\\u044b.   \\u041d\\u0430 \\u0441\\u0435\\u0433\\u043e\\u0434\\u043d\\u044f\\u0448\\u043d\\u0438\\u0439 \\u0434\\u0435\\u043d\\u044c \\u0437\\u0430\\u043d\\u0438\\u043c\\u0430\\u0435\\u043c \\u043b\\u0438\\u0434\\u0438\\u0440\\u0443\\u044e\\u0449\\u0438\\u0435 \\u043f\\u043e\\u0437\\u0438\\u0446\\u0438\\u0438 \\u0432 \\u043e\\u0442\\u0440\\u0430\\u0441\\u043b\\u0438 \\u0438 \\u043f\\u0440\\u043e\\u0434\\u043e\\u043b\\u0436\\u0430\\u0435\\u043c \\u0440\\u0430\\u0437\\u0432\\u0438\\u0432\\u0430\\u0442\\u044c\\u0441\\u044f. \\u0421\\u0435\\u0439\\u0447\\u0430\\u0441 \\u043c\\u044b \\u0440\\u0430\\u0441\\u0448\\u0438\\u0440\\u044f\\u0435\\u043c\\u0441\\u044f \\u0438  \\u0438\\u0449\\u0435\\u043c Senior Backend QA engineer  \\u0432 \\u043d\\u0430\\u0448\\u0443 \\u043a\\u043e\\u043c\\u0430\\u043d\\u0434\\u0443!   \\u0427\\u0442\\u043e \\u0436\\u0434\\u0451\\u043c \\u0438 \\u0446\\u0435\\u043d\\u0438\\u043c:     \\u041e\\u043f\\u044b\\u0442 \\u043e\\u0442 3 \\u043b\\u0435\\u0442 \\u0432 \\u0442\\u0435\\u0441\\u0442\\u0438\\u0440\\u043e\\u0432\\u0430\\u043d\\u0438\\u0438;   \\u0417\\u043d\\u0430\\u043d\\u0438\\u0435 \\u043e\\u0441\\u043d\\u043e\\u0432\\u043d\\u044b\\u0445 \\u043c\\u0435\\u0442\\u043e\\u0434\\u043e\\u0432 \\u0438 \\u043c\\u0435\\u0442\\u043e\\u0434\\u0438\\u043a \\u0442\\u0435\\u0441\\u0442\\u0438\\u0440\\u043e\\u0432\\u0430\\u043d\\u0438\\u044f;   \\u041f\\u043e\\u043d\\u0438\\u043c\\u0430\\u043d\\u0438\\u0435 \\u043e\\u0441\\u043d\\u043e\\u0432\\u043d\\u044b\\u0445 \\u043f\\u0440\\u0438\\u043d\\u0446\\u0438\\u043f\\u043e\\u0432 \\u0440\\u0430\\u0437\\u0440\\u0430\\u0431\\u043e\\u0442\\u043a\\u0438 \\u041f\\u041e \\u0438 \\u043c\\u0435\\u0442\\u043e\\u0434\\u043e\\u043b\\u043e\\u0433\\u0438\\u0439 \\u0440\\u0430\\u0437\\u0440\\u0430\\u0431\\u043e\\u0442\\u043a\\u0438;   \\u041e\\u043f\\u044b\\u0442 \\u0441\\u043e\\u0437\\u0434\\u0430\\u043d\\u0438\\u044f \\u0442\\u0435\\u0441\\u0442\\u043e\\u0432, \\u0447\\u0435\\u043a-\\u043b\\u0438\\u0441\\u0442\\u043e\\u0432;   \\u041d\\u0430\\u0432\\u044b\\u043a\\u0438 \\u043d\\u0430\\u043f\\u0438\\u0441\\u0430\\u043d\\u0438\\u044f \\u043a\\u043e\\u043b\\u043b\\u0435\\u043a\\u0446\\u0438\\u0439 \\u0432 Postman;   \\u041e\\u043f\\u044b\\u0442 \\u0440\\u0430\\u0431\\u043e\\u0442\\u044b \\u0441 \\u0431\\u0430\\u0437\\u0430\\u043c\\u0438 \\u0434\\u0430\\u043d\\u043d\\u044b\\u0445, \\u043d\\u0430\\u0432\\u044b\\u043a\\u0438 \\u043d\\u0430\\u043f\\u0438\\u0441\\u0430\\u043d\\u0438\\u044f \\u043f\\u0440\\u043e\\u0441\\u0442\\u044b\\u0445 \\u0437\\u0430\\u043f\\u0440\\u043e\\u0441\\u043e\\u0432;   \\u041e\\u043f\\u044b\\u0442 \\u0440\\u0430\\u0431\\u043e\\u0442\\u044b \\u0441 Linux \\u043d\\u0430 \\u0443\\u0440\\u043e\\u0432\\u043d\\u0435 \\u0440\\u0430\\u0431\\u043e\\u0442\\u044b \\u0441 \\u0444\\u0430\\u0439\\u043b\\u043e\\u0432\\u043e\\u0439 \\u0441\\u0438\\u0441\\u0442\\u0435\\u043c\\u043e\\u0439;   \\u041e\\u043f\\u044b\\u0442 \\u0440\\u0430\\u0431\\u043e\\u0442\\u044b \\u0441 Jira \\u0438 Confluence.     \\u0411\\u0443\\u0434\\u0435\\u0442 \\u043f\\u043b\\u044e\\u0441\\u043e\\u043c:     \\u041e\\u043f\\u044b\\u0442 \\u0430\\u0432\\u0442\\u043e\\u043c\\u0430\\u0442\\u0438\\u0437\\u0430\\u0446\\u0438\\u0438 API \\u0442\\u0435\\u0441\\u0442\\u043e\\u0432;   \\u041d\\u0430\\u0432\\u044b\\u043a\\u0438 \\u043d\\u0430\\u043f\\u0438\\u0441\\u0430\\u043d\\u0438\\u044f \\u0442\\u0435\\u0441\\u0442 \\u043f\\u043b\\u0430\\u043d\\u043e\\u0432 \\u043d\\u0430 \\u0443\\u0440\\u043e\\u0432\\u043d\\u0435 \\u0441\\u0435\\u0440\\u0432\\u0438\\u0441\\u0430 \\u0441\\u0438\\u0441\\u0442\\u0435\\u043c\\u044b \\u043b\\u0438\\u0431\\u043e \\u0432\\u0441\\u0435\\u0433\\u043e \\u043f\\u0440\\u043e\\u0434\\u0443\\u043a\\u0442\\u0430;   \\u0417\\u043d\\u0430\\u043d\\u0438\\u0435 \\u043f\\u0440\\u0438\\u043d\\u0446\\u0438\\u043f\\u043e\\u0432 \\u0440\\u0430\\u0431\\u043e\\u0442\\u044b \\u0431\\u0440\\u043e\\u043a\\u0435\\u0440\\u043e\\u0432 \\u0441\\u043e\\u043e\\u0431\\u0449\\u0435\\u043d\\u0438\\u0439 (aka rabbit MQ/ Kafka \\u0438 etc);   \\u0417\\u043d\\u0430\\u043d\\u0438\\u0435 PostgreSQL \\u043d\\u0430 \\u0443\\u0440\\u043e\\u0432\\u043d\\u0435 \\u0441\\u043b\\u043e\\u0436\\u043d\\u044b\\u0445 \\u0437\\u0430\\u043f\\u0440\\u043e\\u0441\\u043e\\u0432;   \\u041e\\u043f\\u044b\\u0442 \\u0430\\u043d\\u0430\\u043b\\u0438\\u0437\\u0430 \\u043b\\u043e\\u0433\\u043e\\u0432 \\u0441\\u0438\\u0441\\u0442\\u0435\\u043c\\u044b \\u0438 \\u0432\\u044b\\u044f\\u0432\\u043b\\u0435\\u043d\\u0438\\u044f \\u043f\\u0440\\u043e\\u0431\\u043b\\u0435\\u043c.     \\u0427\\u0435\\u043c \\u043f\\u0440\\u0435\\u0434\\u0441\\u0442\\u043e\\u0438\\u0442 \\u0437\\u0430\\u043d\\u0438\\u043c\\u0430\\u0442\\u044c\\u0441\\u044f:     \\u0422\\u0435\\u0441\\u0442\\u0438\\u0440\\u043e\\u0432\\u0430\\u043d\\u0438\\u0435 \\u0431\\u044d\\u043a\\u0435\\u043d\\u0434 \\u0447\\u0430\\u0441\\u0442\\u0438 \\u043f\\u0440\\u043e\\u0434\\u0443\\u043a\\u0442\\u043e\\u0432\\u043e\\u0433\\u043e \\u0440\\u0435\\u0448\\u0435\\u043d\\u0438\\u044f;   \\u0418\\u0434\\u0435\\u043d\\u0442\\u0438\\u0444\\u0438\\u043a\\u0430\\u0446\\u0438\\u044f, \\u0434\\u043e\\u043a\\u0443\\u043c\\u0435\\u043d\\u0442\\u0438\\u0440\\u043e\\u0432\\u0430\\u043d\\u0438\\u0435 \\u0438 \\u043e\\u043f\\u0438\\u0441\\u0430\\u043d\\u0438\\u0435 \\u0434\\u0435\\u0444\\u0435\\u043a\\u0442\\u043e\\u0432, \\u0432\\u0430\\u043b\\u0438\\u0434\\u0430\\u0446\\u0438\\u044f \\u0438\\u0441\\u043f\\u0440\\u0430\\u0432\\u043b\\u0435\\u043d\\u0438\\u0439;   \\u0412\\u0437\\u0430\\u0438\\u043c\\u043e\\u0434\\u0435\\u0439\\u0441\\u0442\\u0432\\u0438\\u0435 \\u0441 \\u0440\\u0430\\u0437\\u0440\\u0430\\u0431\\u043e\\u0442\\u0447\\u0438\\u043a\\u0430\\u043c\\u0438, \\u043c\\u0435\\u043d\\u0435\\u0434\\u0436\\u0435\\u0440\\u0430\\u043c\\u0438 \\u0438 QA-\\u043a\\u043e\\u043c\\u0430\\u043d\\u0434\\u043e\\u0439 \\u043f\\u0440\\u043e\\u0435\\u043a\\u0442\\u0430;   \\u041d\\u0430\\u043f\\u0438\\u0441\\u0430\\u043d\\u0438\\u0435 \\u0442\\u0435\\u0445\\u043d\\u0438\\u0447\\u0435\\u0441\\u043a\\u043e\\u0439 \\u0442\\u0435\\u0441\\u0442\\u043e\\u0432\\u043e\\u0439 \\u0434\\u043e\\u043a\\u0443\\u043c\\u0435\\u043d\\u0442\\u0430\\u0446\\u0438\\u0438;   \\u0410\\u043d\\u0430\\u043b\\u0438\\u0437 \\u0430\\u043b\\u0433\\u043e\\u0440\\u0438\\u0442\\u043c\\u043e\\u0432 \\u043f\\u043e\\u0432\\u0435\\u0434\\u0435\\u043d\\u0438\\u0439 \\u043c\\u043e\\u0434\\u0443\\u043b\\u0435\\u0439, \\u043e\\u0431\\u043d\\u043e\\u0432\\u043b\\u0435\\u043d\\u0438\\u0435 \\u0438 \\u0441\\u043e\\u0441\\u0442\\u0430\\u0432\\u043b\\u0435\\u043d\\u0438\\u0435 API \\u043a\\u043e\\u043b\\u043b\\u0435\\u043a\\u0446\\u0438\\u0439 \\u0434\\u043b\\u044f \\u0442\\u0435\\u0441\\u0442\\u0438\\u0440\\u043e\\u0432\\u0430\\u043d\\u0438\\u044f \\u043c\\u0438\\u043a\\u0440\\u043e\\u0441\\u0435\\u0440\\u0432\\u0438\\u0441\\u043e\\u0432 \\u0432 \\u0440\\u0430\\u043c\\u043a\\u0430\\u0445 \\u043f\\u0440\\u043e\\u0435\\u043a\\u0442\\u0430;   \\u041d\\u0430\\u043f\\u0438\\u0441\\u0430\\u043d\\u0438\\u0435 sql \\u0441\\u043a\\u0440\\u0438\\u043f\\u0442\\u043e\\u0432 \\u0434\\u043b\\u044f \\u043c\\u043e\\u043a\\u0438\\u0440\\u043e\\u0432\\u0430\\u043d\\u0438\\u044f \\u043d\\u0435\\u043e\\u0431\\u0445\\u043e\\u0434\\u0438\\u043c\\u044b\\u0445 \\u0442\\u0435\\u0441\\u0442\\u043e\\u0432\\u044b\\u0445 \\u0434\\u0430\\u043d\\u043d\\u044b\\u0445.     \\u041f\\u043e\\u0447\\u0435\\u043c\\u0443 \\u0443 \\u043d\\u0430\\u0441 \\u0445\\u043e\\u0440\\u043e\\u0448\\u043e:     \\u041e\\u0444\\u0438\\u0446\\u0438\\u0430\\u043b\\u044c\\u043d\\u043e\\u0435 \\u043e\\u0444\\u043e\\u0440\\u043c\\u043b\\u0435\\u043d\\u0438\\u0435 \\u0432 \\u0430\\u043a\\u043a\\u0440\\u0435\\u0434\\u0438\\u0442\\u043e\\u0432\\u0430\\u043d\\u043d\\u0443\\u044e IT-\\u043a\\u043e\\u043c\\u043f\\u0430\\u043d\\u0438\\u044e;   \\u041a\\u043e\\u043c\\u0444\\u043e\\u0440\\u0442\\u043d\\u044b\\u0439 \\u043e\\u0444\\u0438\\u0441 \\u0432 \\u0421\\u0430\\u043d\\u043a\\u0442-\\u041f\\u0435\\u0442\\u0435\\u0440\\u0431\\u0443\\u0440\\u0433\\u0435 (\\u043c. \\u041f\\u0435\\u0442\\u0440\\u043e\\u0433\\u0440\\u0430\\u0434\\u0441\\u043a\\u0430\\u044f). \\u041a\\u043b\\u0430\\u0441\\u0441\\u043d\\u0430\\u044f \\u0442\\u0435\\u0445\\u043d\\u0438\\u043a\\u0430, \\u0443\\u0434\\u043e\\u0431\\u043d\\u044b\\u0435 \\u0440\\u0430\\u0431\\u043e\\u0447\\u0438\\u0435 \\u043c\\u0435\\u0441\\u0442\\u0430, \\u0438\\u0433\\u0440\\u043e\\u0432\\u0430\\u044f \\u0437\\u043e\\u043d\\u0430 \\u0441 PlayStation, \\u0430 \\u0442\\u0430\\u043a\\u0436\\u0435 \\u043a\\u043e\\u0444\\u0435\\u043f\\u043e\\u0439\\u043d\\u0442\\u044b \\u0441 \\u0437\\u0430\\u043f\\u0430\\u0441\\u043e\\u043c \\u0444\\u0440\\u0443\\u043a\\u0442\\u043e\\u0432, \\u043e\\u0440\\u0435\\u0445\\u043e\\u0432, \\u043f\\u0435\\u0447\\u0435\\u043d\\u0435\\u043a, \\u043a\\u043e\\u0444\\u0435 \\u0438 \\u043b\\u0438\\u043c\\u043e\\u043d\\u0430\\u0434\\u043e\\u0432;   \\u0413\\u0438\\u0431\\u0440\\u0438\\u0434\\u043d\\u044b\\u0439  \\u0444\\u043e\\u0440\\u043c\\u0430\\u0442 \\u0438 \\u043f\\u043b\\u0430\\u0432\\u0430\\u044e\\u0449\\u0435\\u0435 \\u043d\\u0430\\u0447\\u0430\\u043b\\u043e \\u0440\\u0430\\u0431\\u043e\\u0447\\u0435\\u0433\\u043e \\u0434\\u043d\\u044f \\u0434\\u043e 12. \\u0413\\u043b\\u0430\\u0432\\u043d\\u043e\\u0435 \\u2014 \\u0440\\u0435\\u0437\\u0443\\u043b\\u044c\\u0442\\u0430\\u0442, \\u0430 \\u043d\\u0435 \\u0432\\u0440\\u0435\\u043c\\u044f;   \\u042f\\u0440\\u043a\\u0430\\u044f \\u043a\\u043e\\u0440\\u043f\\u043e\\u0440\\u0430\\u0442\\u0438\\u0432\\u043d\\u0430\\u044f \\u0436\\u0438\\u0437\\u043d\\u044c. \\u0415\\u0437\\u0434\\u0438\\u043c \\u0432\\u0441\\u0435\\u0439 \\u043a\\u043e\\u043c\\u0430\\u043d\\u0434\\u043e\\u0439 \\u0432 \\u0421\\u043e\\u0447\\u0438, \\u0445\\u043e\\u0434\\u0438\\u043c \\u043d\\u0430 \\u043a\\u0432\\u0438\\u0437\\u044b, \\u0433\\u043e\\u0442\\u043e\\u0432\\u0438\\u043c \\u043a\\u043e\\u043a\\u0442\\u0435\\u0439\\u043b\\u0438, \\u043a\\u0430\\u0442\\u0430\\u0435\\u043c\\u0441\\u044f \\u043d\\u0430 \\u044f\\u0445\\u0442\\u0430\\u0445, \\u043f\\u043e\\u0451\\u043c \\u0432 \\u043a\\u0430\\u0440\\u0430\\u043e\\u043a\\u0435;   \\u041c\\u043e\\u043b\\u043e\\u0434\\u0430\\u044f \\u0442\\u0430\\u043b\\u0430\\u043d\\u0442\\u043b\\u0438\\u0432\\u0430\\u044f \\u043a\\u043e\\u043c\\u0430\\u043d\\u0434\\u0430 \\u0438 \\u0434\\u0435\\u043c\\u043e\\u043a\\u0440\\u0430\\u0442\\u0438\\u0447\\u043d\\u044b\\u0435 \\u0440\\u0443\\u043a\\u043e\\u0432\\u043e\\u0434\\u0438\\u0442\\u0435\\u043b\\u0438, \\u0432\\u0441\\u0435\\u0433\\u0434\\u0430 \\u043e\\u0442\\u043a\\u0440\\u044b\\u0442\\u044b\\u0435 \\u043a \\u0434\\u0438\\u0430\\u043b\\u043e\\u0433\\u0443;   \\u041e\\u0442\\u0441\\u0443\\u0442\\u0441\\u0442\\u0432\\u0438\\u0435 \\u0431\\u044e\\u0440\\u043e\\u043a\\u0440\\u0430\\u0442\\u0438\\u0438, \\u043c\\u0438\\u043a\\u0440\\u043e\\u043c\\u0435\\u043d\\u0435\\u0434\\u0436\\u043c\\u0435\\u043d\\u0442\\u0430 \\u0438 \\u0440\\u0430\\u0431\\u043e\\u0442\\u0430 \\u0432 \\u0430\\u0442\\u043c\\u043e\\u0441\\u0444\\u0435\\u0440\\u0435 \\u0434\\u043e\\u0432\\u0435\\u0440\\u0438\\u044f;   \\u0417\\u0430\\u0431\\u043e\\u0442\\u0430 \\u043e \\u0437\\u0434\\u043e\\u0440\\u043e\\u0432\\u044c\\u0435. \\u041f\\u043e\\u0441\\u043b\\u0435 \\u0438\\u0441\\u043f\\u044b\\u0442\\u0430\\u0442\\u0435\\u043b\\u044c\\u043d\\u043e\\u0433\\u043e \\u0441\\u0440\\u043e\\u043a\\u0430 \\u043f\\u043e\\u0434\\u043a\\u043b\\u044e\\u0447\\u0430\\u0435\\u043c \\u0432\\u0441\\u0435\\u043c \\u0441\\u043e\\u0442\\u0440\\u0443\\u0434\\u043d\\u0438\\u043a\\u0430\\u043c \\u0414\\u041c\\u0421, \\u0430 \\u0442\\u0430\\u043a\\u0436\\u0435 \\u043a\\u043e\\u043c\\u043f\\u0435\\u043d\\u0441\\u0438\\u0440\\u0443\\u0435\\u043c \\u0440\\u0430\\u0441\\u0445\\u043e\\u0434\\u044b \\u043d\\u0430 \\u0430\\u0431\\u043e\\u043d\\u0435\\u043c\\u0435\\u043d\\u0442 \\u0432 \\u0441\\u043f\\u043e\\u0440\\u0442\\u0437\\u0430\\u043b;   \\u0412\\u043e\\u0437\\u043c\\u043e\\u0436\\u043d\\u043e\\u0441\\u0442\\u044c \\u043e\\u0431\\u0443\\u0447\\u0435\\u043d\\u0438\\u044f. \\u0414\\u043b\\u044f \\u043f\\u043e\\u0432\\u044b\\u0448\\u0435\\u043d\\u0438\\u044f \\u0441\\u043a\\u0438\\u043b\\u043b\\u043e\\u0432 \\u0432\\u0441\\u0435\\u0433\\u0434\\u0430 \\u0440\\u0430\\u0434\\u044b \\u043e\\u043f\\u043b\\u0430\\u0442\\u0438\\u0442\\u044c \\u0443\\u0447\\u0430\\u0441\\u0442\\u0438\\u0435 \\u0432 \\u043a\\u0443\\u0440\\u0441\\u0430\\u0445/\\u043c\\u0430\\u0441\\u0442\\u0435\\u0440-\\u043a\\u043b\\u0430\\u0441\\u0441\\u0430\\u0445/\\u043a\\u043e\\u043d\\u0444\\u0435\\u0440\\u0435\\u043d\\u0446\\u0438\\u044f\\u0445.     \\u041e\\u0442\\u043a\\u043b\\u0438\\u043a\\u0430\\u0439\\u0441\\u044f, \\u0435\\u0441\\u043b\\u0438 \\u0447\\u0443\\u0432\\u0441\\u0442\\u0432\\u0443\\u0435\\u0448\\u044c \\u043c\\u044d\\u0442\\u0447!\",\n          \"Python \\u0440\\u0430\\u0437\\u0440\\u0430\\u0431\\u043e\\u0442\\u0447\\u0438\\u043a (Django) | \\u041c\\u043e\\u0441\\u043a\\u0432\\u0430 | Hammer Systems | Python, Django Framework, SQL, Git | \\u041e \\u043a\\u043e\\u043c\\u043f\\u0430\\u043d\\u0438\\u0438:   \\u041c\\u044b \\u0437\\u0430\\u043d\\u0438\\u043c\\u0430\\u0435\\u043c\\u0441\\u044f \\u0440\\u0430\\u0437\\u0440\\u0430\\u0431\\u043e\\u0442\\u043a\\u043e\\u0439 \\u043c\\u043e\\u0431\\u0438\\u043b\\u044c\\u043d\\u044b\\u0445 \\u043f\\u0440\\u0438\\u043b\\u043e\\u0436\\u0435\\u043d\\u0438\\u0439 \\u0438 \\u0432\\u0435\\u0431 \\u0441\\u0435\\u0440\\u0432\\u0438\\u0441\\u043e\\u0432. \\u0414\\u0435\\u043b\\u0430\\u0435\\u043c \\u043f\\u0440\\u043e\\u0435\\u043a\\u0442\\u044b \\u043d\\u0430 \\u0437\\u0430\\u043a\\u0430\\u0437, \\u0430 \\u0442\\u0430\\u043a\\u0436\\u0435 \\u0440\\u0430\\u0437\\u0440\\u0430\\u0431\\u0430\\u0442\\u044b\\u0432\\u0430\\u0435\\u043c \\u0441\\u043e\\u0431\\u0441\\u0442\\u0432\\u0435\\u043d\\u043d\\u044b\\u0435   \\u041d\\u0430 \\u0434\\u0430\\u043d\\u043d\\u044b\\u0439 \\u043c\\u043e\\u043c\\u0435\\u043d\\u0442 \\u0440\\u0430\\u0437\\u0440\\u0430\\u0431\\u0430\\u0442\\u044b\\u0432\\u0430\\u0435\\u043c \\u043d\\u0430\\u0448 \\u0441\\u043e\\u0431\\u0441\\u0442\\u0432\\u0435\\u043d\\u043d\\u044b\\u0439 \\u043f\\u0440\\u043e\\u0434\\u0443\\u043a\\u0442 - \\u0430\\u0433\\u0440\\u0435\\u0433\\u0430\\u0442\\u043e\\u0440 \\u0440\\u0435\\u0441\\u0442\\u043e\\u0440\\u0430\\u043d\\u043e\\u0432 \\u0441 \\u0432\\u043e\\u0437\\u043c\\u043e\\u0436\\u043d\\u043e\\u0441\\u0442\\u044c\\u044e \\u0431\\u0440\\u043e\\u043d\\u0438\\u0440\\u043e\\u0432\\u0430\\u043d\\u0438\\u044f \\u0441\\u0442\\u043e\\u043b\\u0438\\u043a\\u043e\\u0432 \\u043d\\u0430 \\u0438\\u043d\\u0442\\u0435\\u0440\\u0430\\u043a\\u0442\\u0438\\u0432\\u043d\\u043e\\u0439 \\u043a\\u0430\\u0440\\u0442\\u0435 \\u0437\\u0430\\u0432\\u0435\\u0434\\u0435\\u043d\\u0438\\u044f, \\u0430 \\u0442\\u0430\\u043a\\u0436\\u0435 \\u043c\\u043e\\u0449\\u043d\\u043e\\u0439 \\u0441\\u0438\\u0441\\u0442\\u0435\\u043c\\u043e\\u0439 \\u043b\\u043e\\u044f\\u043b\\u044c\\u043d\\u043e\\u0441\\u0442\\u0438   \\u0418\\u0449\\u0435\\u043c \\u0432 \\u043a\\u043e\\u043c\\u0430\\u043d\\u0434\\u0443 \\u0442\\u0430\\u043b\\u0430\\u043d\\u0442\\u043b\\u0438\\u0432\\u043e\\u0433\\u043e Backend \\u0440\\u0430\\u0437\\u0440\\u0430\\u0431\\u043e\\u0442\\u0447\\u0438\\u043a\\u0430.   \\u0417\\u0430\\u0434\\u0430\\u0447\\u0438:     \\u0420\\u0430\\u0437\\u0440\\u0430\\u0431\\u043e\\u0442\\u043a\\u0430 \\u043d\\u043e\\u0432\\u044b\\u0445 \\u0438 \\u043f\\u043e\\u0434\\u0434\\u0435\\u0440\\u0436\\u043a\\u0430 \\u0441\\u0443\\u0449\\u0435\\u0441\\u0442\\u0432\\u0443\\u044e\\u0449\\u0438\\u0445 \\u0441\\u0435\\u0440\\u0432\\u0438\\u0441\\u043e\\u0432   \\u0412\\u0437\\u0430\\u0438\\u043c\\u043e\\u0434\\u0435\\u0439\\u0441\\u0442\\u0432\\u0438\\u0435 \\u0441 \\u043c\\u0435\\u043d\\u0435\\u0434\\u0436\\u0435\\u0440\\u043e\\u043c, \\u0434\\u0438\\u0437\\u0430\\u0439\\u043d\\u0435\\u0440\\u043e\\u043c, \\u043c\\u043e\\u0431\\u0438\\u043b\\u044c\\u043d\\u044b\\u043c\\u0438 \\u0438 frontend \\u0440\\u0430\\u0437\\u0440\\u0430\\u0431\\u043e\\u0442\\u0447\\u0438\\u043a\\u0430\\u043c\\u0438   \\u041e\\u0446\\u0435\\u043d\\u043a\\u0430 \\u0442\\u0440\\u0443\\u0434\\u043e\\u0435\\u043c\\u043a\\u043e\\u0441\\u0442\\u0438 \\u0437\\u0430\\u0434\\u0430\\u0447     \\u0422\\u0440\\u0435\\u0431\\u043e\\u0432\\u0430\\u043d\\u0438\\u044f:     \\u041e\\u0441\\u043d\\u043e\\u0432\\u043d\\u043e\\u0435 - \\u0436\\u0435\\u043b\\u0430\\u043d\\u0438\\u0435 \\u0440\\u0430\\u0437\\u0432\\u0438\\u0432\\u0430\\u0442\\u044c\\u0441\\u044f, \\u0441\\u0442\\u0440\\u0435\\u0441\\u0441\\u043e\\u0443\\u0441\\u0442\\u043e\\u0439\\u0447\\u0438\\u0432\\u043e\\u0441\\u0442\\u044c, \\u0433\\u043e\\u0442\\u043e\\u0432\\u043d\\u043e\\u0441\\u0442\\u044c \\u043a \\u043f\\u043b\\u043e\\u0442\\u043d\\u043e\\u0439 \\u0440\\u0430\\u0431\\u043e\\u0442\\u0435   \\u0417\\u043d\\u0430\\u043d\\u0438\\u0435 Python   \\u0417\\u043d\\u0430\\u043d\\u0438\\u0435 Django, DRF     \\u0417\\u043d\\u0430\\u043d\\u0438\\u0435 SQL       REST API       \\u041d\\u0430\\u043b\\u0438\\u0447\\u0438\\u0435 \\u0437\\u0430\\u0432\\u0435\\u0440\\u0448\\u0435\\u043d\\u043d\\u044b\\u0445 \\u043f\\u0440\\u043e\\u0435\\u043a\\u0442\\u043e\\u0432       \\u0417\\u043d\\u0430\\u043d\\u0438\\u0435 Git       \\u0423\\u043c\\u0435\\u043d\\u0438\\u0435 \\u0440\\u0430\\u0437\\u0431\\u0438\\u0440\\u0430\\u0442\\u044c\\u0441\\u044f \\u0432 \\u0447\\u0443\\u0436\\u043e\\u043c \\u043a\\u043e\\u0434\\u0435       \\u0423\\u0441\\u043b\\u043e\\u0432\\u0438\\u044f:     \\u0413\\u0438\\u0431\\u043a\\u043e\\u0435 \\u043d\\u0430\\u0447\\u0430\\u043b\\u043e \\u0440\\u0430\\u0431\\u043e\\u0447\\u0435\\u0433\\u043e \\u0434\\u043d\\u044f   \\u0420\\u0430\\u0431\\u043e\\u0442\\u0430 \\u0432 \\u0443\\u044e\\u0442\\u043d\\u043e\\u043c \\u043e\\u0444\\u0438\\u0441\\u0435 (\\u043c. \\u0421\\u043e\\u043a\\u043e\\u043b)   \\u0412\\u043e\\u0437\\u043c\\u043e\\u0436\\u043d\\u0430 \\u0443\\u0434\\u0430\\u043b\\u0435\\u043d\\u043d\\u0430\\u044f \\u0440\\u0430\\u0431\\u043e\\u0442\\u0430   \\u0414\\u043e\\u0441\\u0442\\u043e\\u0439\\u043d\\u0430\\u044f \\u0437\\u0430\\u0440\\u0430\\u0431\\u043e\\u0442\\u043d\\u0430\\u044f \\u043f\\u043b\\u0430\\u0442\\u0430 + \\u043f\\u0440\\u0435\\u043c\\u0438\\u0438   \\u041c\\u043e\\u043b\\u043e\\u0434\\u0430\\u044f, \\u0434\\u0440\\u0443\\u0436\\u043d\\u0430\\u044f \\u043a\\u043e\\u043c\\u0430\\u043d\\u0434\\u0430     \\u041e\\u0442\\u043a\\u043b\\u0438\\u043a\\u0438 \\u0431\\u0435\\u0437 \\u0441\\u043e\\u043f\\u0440\\u043e\\u0432\\u043e\\u0434\\u0438\\u0442\\u0435\\u043b\\u044c\\u043d\\u043e\\u0433\\u043e \\u043f\\u0438\\u0441\\u044c\\u043c\\u0430 \\u043d\\u0435 \\u0440\\u0430\\u0441\\u0441\\u043c\\u0430\\u0442\\u0440\\u0438\\u0432\\u0430\\u044e\\u0442\\u0441\\u044f.  \\u0412 \\u0441\\u043e\\u043f\\u0440\\u043e\\u0432\\u043e\\u0434\\u0438\\u0442\\u0435\\u043b\\u044c\\u043d\\u043e\\u043c \\u043f\\u0438\\u0441\\u044c\\u043c\\u0435 \\u0443\\u043a\\u0430\\u0437\\u044b\\u0432\\u0430\\u0439\\u0442\\u0435 \\u0441\\u0441\\u044b\\u043b\\u043a\\u0438 \\u043d\\u0430 Github c \\u0437\\u0430\\u0432\\u0435\\u0440\\u0448\\u0435\\u043d\\u043d\\u044b\\u043c\\u0438 \\u043f\\u0440\\u043e\\u0435\\u043a\\u0442\\u0430\\u043c\\u0438. \\u0412 Github \\u043f\\u0440\\u043e\\u0435\\u043a\\u0442\\u0430\\u0445 \\u043e\\u0431\\u044f\\u0437\\u0430\\u0442\\u0435\\u043b\\u044c\\u043d\\u043e \\u043d\\u0430\\u043b\\u0438\\u0447\\u0438\\u0435 readme \\u0444\\u0430\\u0439\\u043b\\u0430 \\u0441 \\u043e\\u043f\\u0438\\u0441\\u0430\\u043d\\u0438\\u0435\\u043c \\u043f\\u0440\\u043e\\u0435\\u043a\\u0442\\u0430.\"\n        ],\n        \"semantic_type\": \"\",\n        \"description\": \"\"\n      }\n    },\n    {\n      \"column\": \"log_salary_from\",\n      \"properties\": {\n        \"dtype\": \"number\",\n        \"std\": 0.7316103233388135,\n        \"min\": 3.912023005428146,\n        \"max\": 5.298317366548036,\n        \"num_unique_values\": 3,\n        \"samples\": [\n          5.298317366548036,\n          5.010635294096256,\n          3.912023005428146\n        ],\n        \"semantic_type\": \"\",\n        \"description\": \"\"\n      }\n    }\n  ]\n}"
            }
          },
          "metadata": {}
        }
      ],
      "execution_count": 9
    },
    {
      "cell_type": "code",
      "source": [
        "# Загружаем стоп-слова\n",
        "nltk.download('stopwords', quiet=True)\n",
        "stop_words = set(stopwords.words('russian'))\n",
        "# Добавим специфичные для вакансий стоп-слова\n",
        "stop_words.update(['наш', 'компания', 'команда', 'работа', 'вакансия', 'искать'])\n",
        "\n",
        "# Инициализируем лемматизатор pymorphy3\n",
        "morph = pymorphy3.MorphAnalyzer()\n",
        "\n",
        "def preprocess_text(text: str) -> str:\n",
        "    \"\"\"Полный цикл предобработки текста с использованием pymorphy3.\"\"\"\n",
        "    # 1. Токенизация\n",
        "    tokens = [token.text for token in razdel_tokenize(text)]\n",
        "    # 2. Приведение к нижнему регистру и удаление не-буквенных токенов\n",
        "    lower_tokens = [token.lower() for token in tokens if token.isalpha()]\n",
        "    # 3. Лемматизация и удаление стоп-слов\n",
        "    lemmas = [morph.parse(token)[0].normal_form for token in lower_tokens]\n",
        "    cleaned_lemmas = [lemma for lemma in lemmas if lemma not in stop_words]\n",
        "    return \" \".join(cleaned_lemmas)\n",
        "\n",
        "# Демонстрируем работу на одном примере\n",
        "sample_text = train_df['full_text'].iloc[0]\n",
        "print(f\"ИСХОДНЫЙ ТЕКСТ: '{sample_text[:200]}...'\")\n",
        "print(f\"ОБРАБОТАННЫЙ ТЕКСТ: '{preprocess_text(sample_text)}'\")\n",
        "\n",
        "# Применяем ко всем данным\n",
        "tqdm.pandas(desc=\"Preprocessing Train\")\n",
        "train_df['processed_text'] = train_df['full_text'].progress_apply(preprocess_text)\n",
        "tqdm.pandas(desc=\"Preprocessing Val\")\n",
        "val_df['processed_text'] = val_df['full_text'].progress_apply(preprocess_text)"
      ],
      "metadata": {
        "id": "TZTiwxZeUWqF",
        "outputId": "1c5519c0-b234-4407-95e0-4c750263e7a3",
        "colab": {
          "base_uri": "https://localhost:8080/",
          "height": 104,
          "referenced_widgets": [
            "41dfa68588484f67b70dd1deab6e5a0c",
            "410337bc934d42a8aaeb0a7c33f815e1",
            "728f945a9bf64311aef9af1ffeca5752",
            "3f8098fe0804499fa8c99e0c16f7b587",
            "840ad94fc96f4d0fbee94e5f2d942a03",
            "b469ca80f6ca47f2af98f2388e25471e",
            "f2d745d911174a28b5f6de82ed3ce8ec",
            "0267c5f1452843caa64f7fe33cef33d1",
            "3e635b61b6b5459fa45a6d98e1547062",
            "e99bb377b72d47e69865548f62d89534",
            "4c4e3318747045109d314f6311b61188"
          ]
        }
      },
      "outputs": [
        {
          "output_type": "stream",
          "name": "stdout",
          "text": [
            "ИСХОДНЫЙ ТЕКСТ: 'QA Engineer | Москва (м. Сколково / м. Крылатское) | getmatch agency | Python, Java, Go, C# | Наша компания сохраняет атмосферу стартапа, обеспечивая динамичность и стремление к результатам в сочетани...'\n",
            "ОБРАБОТАННЫЙ ТЕКСТ: 'qa engineer москва м сколково м крылатский getmatch agency python java go c сохранять атмосфера стартап обеспечивать динамичность стремление результат сочетание комфорт стабильность корпоративный среда трудиться создание будущее российский мобильный связь ключевой продукт российский оператор базовый станция lte g разработать основа принцип открытый архитектура open ran приглашать талантливый специалист присоединиться просто сотрудник сторонник разделять страсть прогресс инновация предстоять заниматься участвовать процесс контроль качество разный этап жизненный цикл разрабатывать средство автоматизация функциональный нагрузочный тестирование разрабатывать тестовый документация участвовать лабораторный приёмочный испытание также составлять отчётный документация результат ожидание готовность работать c опыт автоматизация год язык python java go c использование тестовый фреймворк gtest robot xunit подобный также использование непрерывный интеграция gitlab teamcity jenkins готовность перейти автоматизация готовность работать офис реальный оборудование дисциплина обучаемость грамотный устный письменный речь английский уровень чтение технический документация уверенный пользователь linux centos ubuntu administration network bash уверенный знание область организация сеть передача данные уверенный знание область организация процесс разработка контроль качество также жизненный цикл опыт инфраструктура виртуализация контейнеризация vmware esxi kvm like docker kubernetes плюс опыт телекоммуникационный разрабатывать виртуализация управление инфраструктура телек оборудование опыт тестирование встраивать платформа arm опыт телекоммуникационный оборудование опыт чтение модификация чужое код условие профессиональный гильдия инженер направление поддерживать друг друг обмениваться опыт участие внешний выступать highload datafest mobius test driven conf joker devops матемаркетинг проводить собственный конференция архитектура hello conference полезный курс вебинар корпоративный университет электронный библиотека ещё медицинский страховка испытательный срок покрытие расход включая стоматология страхование жизнь здоровье поездка рубеж ещё застраховать родственник корпоративный скидка скидка предложение партнёр фитнес занятие английский прочее'\n"
          ]
        },
        {
          "output_type": "display_data",
          "data": {
            "text/plain": [
              "Preprocessing Train:   0%|          | 0/12500 [00:00<?, ?it/s]"
            ],
            "application/vnd.jupyter.widget-view+json": {
              "version_major": 2,
              "version_minor": 0,
              "model_id": "41dfa68588484f67b70dd1deab6e5a0c"
            }
          },
          "metadata": {}
        }
      ],
      "execution_count": null
    },
    {
      "cell_type": "code",
      "source": [
        "nltk.download('punkt')"
      ],
      "metadata": {
        "id": "cIVkEyt6UiCF"
      },
      "outputs": [],
      "execution_count": null
    },
    {
      "cell_type": "code",
      "source": [
        "#создаем словарь\n",
        "def build_vocab(texts, min_freq=10):\n",
        "    counter = Counter()\n",
        "    for text in texts:\n",
        "        counter.update(text.split())\n",
        "    vocab = {'<pad>':0, '<unk>':1}\n",
        "    for word, freq in counter.items():\n",
        "        if freq >= min_freq:\n",
        "            vocab[word] = len(vocab)\n",
        "    return vocab\n",
        "\n",
        "def text2indices(text, word2ind):\n",
        "    return [word2ind.get(w, word2ind['<unk>']) for w in text.split()]\n"
      ],
      "metadata": {
        "id": "4nlLSbhLaD04"
      },
      "outputs": [],
      "execution_count": null
    },
    {
      "cell_type": "code",
      "source": [
        "def collate_fn_with_padding(batch, pad_idx=0):\n",
        "  #настройка объединения батчей в DataLoader\n",
        "    texts, targets = zip(*batch)\n",
        "    lengths = [len(t) for t in texts]\n",
        "    max_len = max(lengths)\n",
        "\n",
        "    padded_texts = []\n",
        "    for t in texts:\n",
        "        padded = t + [pad_idx] * (max_len - len(t))\n",
        "        padded_texts.append(padded)\n",
        "    padded_texts = torch.tensor(padded_texts, dtype=torch.long)\n",
        "    targets = torch.tensor(targets, dtype=torch.float)\n",
        "    return padded_texts, targets"
      ],
      "metadata": {
        "id": "7G0ce1mYfKRF"
      },
      "outputs": [],
      "execution_count": null
    },
    {
      "cell_type": "code",
      "source": [
        "class SalaryDataset(Dataset):\n",
        "    def __init__(self, texts, targets, word2ind):\n",
        "        self.texts = [text2indices(t, word2ind) for t in texts]\n",
        "        self.targets = targets\n",
        "\n",
        "    def __len__(self):\n",
        "        return len(self.texts)\n",
        "\n",
        "    def __getitem__(self, idx):\n",
        "        return self.texts[idx], self.targets[idx]"
      ],
      "metadata": {
        "id": "NOIwPczDfPo2"
      },
      "outputs": [],
      "execution_count": null
    },
    {
      "cell_type": "code",
      "source": [
        "vocab = build_vocab(train_df['processed_text'].tolist())"
      ],
      "metadata": {
        "id": "EhXDA5crfb7I"
      },
      "outputs": [],
      "execution_count": null
    },
    {
      "cell_type": "code",
      "source": [
        "print(\"Всего слов в словаре:\", len(vocab))"
      ],
      "metadata": {
        "id": "bwajf_CnaIWw"
      },
      "outputs": [],
      "execution_count": null
    },
    {
      "cell_type": "code",
      "source": [
        "def train_model(model, train_dataloader, val_dataloader, num_epochs, device, vocab):\n",
        "    # Критерий для регрессии - MSELoss, R2-score отслеживаем только на валидации\n",
        "    criterion = nn.MSELoss()\n",
        "    optimizer = optim.Adam(model.parameters())\n",
        "\n",
        "    train_losses = []\n",
        "    val_losses = []\n",
        "    val_r2_scores = []\n",
        "\n",
        "    for epoch in range(num_epochs):\n",
        "\n",
        "        model.train()\n",
        "        epoch_train_losses = []\n",
        "\n",
        "        for x_batch, y_batch in tqdm(train_dataloader, desc=f'Training epoch {epoch+1}/{num_epochs}'):\n",
        "            x_batch, y_batch = x_batch.to(device), y_batch.to(device)\n",
        "\n",
        "            optimizer.zero_grad() # обнуляем градиенты\n",
        "            preds = model(x_batch) # прямой проход\n",
        "            loss = criterion(preds, y_batch) # лоссы\n",
        "\n",
        "            loss.backward() # backward подсчет градиентов\n",
        "            optimizer.step() # обновляем веса\n",
        "\n",
        "            epoch_train_losses.append(loss.item())\n",
        "\n",
        "        avg_train_loss = sum(epoch_train_losses) / len(epoch_train_losses)\n",
        "        train_losses.append(avg_train_loss)\n",
        "\n",
        "\n",
        "        model.eval()\n",
        "        epoch_val_losses = []\n",
        "        all_val_preds = []\n",
        "        all_val_targets = []\n",
        "\n",
        "        with torch.no_grad():\n",
        "            for x_batch, y_batch in tqdm(val_dataloader, desc=f'Validation epoch {epoch+1}/{num_epochs}'):\n",
        "                x_batch, y_batch = x_batch.to(device), y_batch.to(device)\n",
        "\n",
        "                preds = model(x_batch)\n",
        "                loss = criterion(preds, y_batch)\n",
        "\n",
        "                epoch_val_losses.append(loss.item())\n",
        "\n",
        "                # предсказания и истинные значения для R2\n",
        "                all_val_preds.extend(preds.cpu().numpy())\n",
        "                all_val_targets.extend(y_batch.cpu().numpy())\n",
        "\n",
        "        avg_val_loss = sum(epoch_val_losses) / len(epoch_val_losses)\n",
        "        val_losses.append(avg_val_loss)\n",
        "\n",
        "        # R2- на всей валидационной выборке\n",
        "        val_r2 = r2_score(all_val_targets, all_val_preds)\n",
        "        val_r2_scores.append(val_r2)\n",
        "\n",
        "        print(f\"Epoch {epoch+1}/{num_epochs}: \"\n",
        "              f\"Train Loss = {avg_train_loss:.4f}, \"\n",
        "              f\"Val Loss = {avg_val_loss:.4f}, \"\n",
        "              f\"Val R2-score = {val_r2:.4f}\")\n",
        "\n",
        "    return train_losses, val_losses, val_r2_scores"
      ],
      "metadata": {
        "id": "xouI-aDNfXtG"
      },
      "outputs": [],
      "execution_count": null
    },
    {
      "cell_type": "code",
      "source": [
        "class SimpleRegressionModel(nn.Module):\n",
        "  #простая модель регрессии, бейслайн\n",
        "    def __init__(self, vocab_size, embed_dim=64, hidden_dim=128, pad_idx=0):\n",
        "        super(SimpleRegressionModel, self).__init__()\n",
        "        self.embedding = nn.Embedding(vocab_size, embed_dim, padding_idx=pad_idx)\n",
        "        self.fc1 = nn.Linear(embed_dim, hidden_dim)\n",
        "        self.relu = nn.ReLU()\n",
        "        self.fc2 = nn.Linear(hidden_dim, 1)\n",
        "\n",
        "    def forward(self, x):\n",
        "        emb = self.embedding(x)  # (batch, seq_len, embed_dim)\n",
        "        mask = (x != self.embedding.padding_idx).unsqueeze(-1)\n",
        "        emb = emb * mask\n",
        "        summed = emb.sum(dim=1)\n",
        "        counts = mask.sum(dim=1).clamp(min=1e-9)\n",
        "        avg_emb = summed / counts\n",
        "        h = self.relu(self.fc1(avg_emb))\n",
        "        out = self.fc2(h).squeeze(1)\n",
        "        return out"
      ],
      "metadata": {
        "id": "1T6SM-SkiZ_X"
      },
      "outputs": [],
      "execution_count": null
    },
    {
      "cell_type": "code",
      "source": [
        "train_dataset = SalaryDataset(train_df['processed_text'].tolist(), train_df['log_salary_from'].tolist(), vocab)\n",
        "val_dataset = SalaryDataset(val_df['processed_text'].tolist(), val_df['log_salary_from'].tolist(), vocab)"
      ],
      "metadata": {
        "id": "ltKhLr8BfiR-"
      },
      "outputs": [],
      "execution_count": null
    },
    {
      "cell_type": "code",
      "source": [
        "train_loader = DataLoader(train_dataset, batch_size=32, shuffle=True,\n",
        "                          collate_fn=lambda batch: collate_fn_with_padding(batch, pad_idx=vocab['<pad>']))\n",
        "\n",
        "#на валидации не перемешиваем\n",
        "val_loader = DataLoader(val_dataset, batch_size=32,\n",
        "                        collate_fn=lambda batch: collate_fn_with_padding(batch, pad_idx=vocab['<pad>']))"
      ],
      "metadata": {
        "id": "8QDm5VS_gVmF"
      },
      "outputs": [],
      "execution_count": null
    },
    {
      "cell_type": "code",
      "source": [
        "device = torch.device('cuda' if torch.cuda.is_available() else 'cpu')\n",
        "model = SimpleRegressionModel(len(vocab), pad_idx=vocab['<pad>']).to(device)\n",
        "\n",
        "num_epochs = 10\n",
        "train_losses, val_losses, val_r2_scores = train_model(\n",
        "    model, train_loader, val_loader, num_epochs, device, vocab\n",
        ")\n",
        "print(\"\\nTraining completed!\")\n",
        "print(f\"Final Train Loss: {train_losses[-1]:.4f}\")\n",
        "print(f\"Final Val Loss: {val_losses[-1]:.4f}\")\n",
        "print(f\"Final Val R2-score: {val_r2_scores[-1]:.4f}\")"
      ],
      "metadata": {
        "id": "PF3pIPWfgeCT"
      },
      "outputs": [],
      "execution_count": null
    },
    {
      "cell_type": "code",
      "source": [
        "plt.plot(np.arange(len(train_losses)), train_losses)\n",
        "plt.plot(np.arange(len(val_losses)), val_losses)\n",
        "plt.title('Losses')\n",
        "plt.xlabel(\"epoch\")\n",
        "plt.show()"
      ],
      "metadata": {
        "id": "46hFzeTGajrn"
      },
      "outputs": [],
      "execution_count": null
    },
    {
      "cell_type": "code",
      "source": [
        "plt.plot(np.arange(len(val_r2_scores)), val_r2_scores)\n",
        "plt.title('val_r2_scores')\n",
        "plt.xlabel(\"epoch\")\n",
        "plt.show()"
      ],
      "metadata": {
        "id": "Dw00QjkianYO"
      },
      "outputs": [],
      "execution_count": null
    },
    {
      "cell_type": "code",
      "source": [
        "test_df['processed_text'] = test_df['full_text'].progress_apply(preprocess_text)\n",
        "\n",
        "# dataset для теста\n",
        "class TestSalaryDataset(Dataset):\n",
        "    def __init__(self, texts, word2ind):\n",
        "        self.texts = texts\n",
        "        self.vocab = word2ind\n",
        "    def __len__(self):\n",
        "        return len(self.texts)\n",
        "    def __getitem__(self, idx):\n",
        "        tokens = self.texts[idx].split()\n",
        "        indices = [self.vocab.get(t, self.vocab['<unk>']) for t in tokens]\n",
        "        return indices\n",
        "\n",
        "test_dataset = TestSalaryDataset(test_df['processed_text'].tolist(), vocab)\n",
        "\n",
        "test_loader = DataLoader(test_dataset, batch_size=32,\n",
        "                         collate_fn=lambda batch: collate_fn_with_padding([(x, 0) for x in batch], pad_idx=vocab['<pad>']))\n",
        "\n",
        "\n",
        "model.eval()\n",
        "predictions = []\n",
        "with torch.no_grad():\n",
        "    for x_batch, _ in test_loader:\n",
        "        x_batch = x_batch.to(device)\n",
        "        preds = model(x_batch)\n",
        "        predictions.extend(preds.cpu().numpy())"
      ],
      "metadata": {
        "id": "WLygTeQXp4n7"
      },
      "outputs": [],
      "execution_count": null
    },
    {
      "cell_type": "code",
      "source": [
        "submition = pd.read_csv('/kaggle/input/teta-nn-1-2025/sample_submition.csv')\n"
      ],
      "metadata": {
        "id": "6D4xz_fIp8d7"
      },
      "outputs": [],
      "execution_count": null
    },
    {
      "cell_type": "code",
      "source": [
        "submition.prediction = predictions"
      ],
      "metadata": {
        "id": "U_qoKOCrXNvd"
      },
      "execution_count": null,
      "outputs": []
    },
    {
      "cell_type": "code",
      "source": [
        "submition.to_csv('linear_sub.csv', index = False)"
      ],
      "metadata": {
        "id": "FXcoCnEMqWm4"
      },
      "outputs": [],
      "execution_count": null
    },
    {
      "cell_type": "code",
      "source": [
        "class GRURegressionModel(nn.Module):\n",
        "    def __init__(self, vocab_size, hidden_dim: int, num_layers: int, dropout_rate: float, pad_idx: int):\n",
        "      #\n",
        "        super().__init__()\n",
        "        # Сохраняем для инициализации скрытого состояния:\n",
        "        self.hidden_dim = hidden_dim\n",
        "        self.num_layers = num_layers\n",
        "\n",
        "        self.embedding = nn.Embedding(vocab_size, hidden_dim, padding_idx=pad_idx)\n",
        "        self.gru = nn.GRU(hidden_dim, hidden_dim, num_layers=num_layers, batch_first=True)\n",
        "\n",
        "        #дополнительный линейный слой и тангенциальная активация\n",
        "        self.linear = nn.Linear(hidden_dim, hidden_dim)\n",
        "        self.non_lin = nn.Tanh()\n",
        "        self.dropout = nn.Dropout(p=dropout_rate)\n",
        "\n",
        "        self.output_projection = nn.Linear(hidden_dim, 1)\n",
        "\n",
        "    def forward(self, input_batch: torch.Tensor) -> torch.Tensor:\n",
        "        embeddings = self.embedding(input_batch)\n",
        "        output, hidden = self.gru(embeddings)\n",
        "\n",
        "        final_hidden_state = hidden[-1, :, :]  # последнее скрытое состояние\n",
        "\n",
        "        processed_hidden = self.dropout(self.linear(self.non_lin(final_hidden_state)))\n",
        "\n",
        "        prediction = self.output_projection(self.non_lin(processed_hidden)).squeeze(1)  # Регрессия\n",
        "\n",
        "        return prediction\n"
      ],
      "metadata": {
        "id": "huBpjJrxi-2W"
      },
      "outputs": [],
      "execution_count": null
    },
    {
      "cell_type": "markdown",
      "source": [
        "Эксперимент с регрессионной моделью на GRU приводит к нестабильному результату:"
      ],
      "metadata": {
        "id": "vewawfR1rdsW"
      }
    },
    {
      "cell_type": "code",
      "source": [
        "model = GRURegressionModel(len(vocab), hidden_dim=256, num_layers=4, dropout_rate=0.2, pad_idx=vocab['<pad>']).to(device)\n",
        "\n",
        "train_losses, val_losses, val_r2_scores = train_model(model, train_loader, val_loader, num_epochs=30, device=device, vocab=vocab)\n",
        "\n",
        "print(\"\\nTraining completed!\")\n",
        "print(f\"Final Train Loss: {train_losses[-1]:.4f}\")\n",
        "print(f\"Final Val Loss: {val_losses[-1]:.4f}\")\n",
        "print(f\"Final Val R2-score: {val_r2_scores[-1]:.4f}\")"
      ],
      "metadata": {
        "id": "7ijs2Ak9jBAu"
      },
      "outputs": [],
      "execution_count": null
    },
    {
      "cell_type": "code",
      "source": [
        "plt.plot(np.arange(len(train_losses)), train_losses)\n",
        "plt.plot(np.arange(len(val_losses)), val_losses)\n",
        "plt.title('Losses')\n",
        "plt.xlabel(\"epoch\")\n",
        "plt.show()"
      ],
      "metadata": {
        "id": "EfY34vLioUrM"
      },
      "outputs": [],
      "execution_count": null
    },
    {
      "cell_type": "code",
      "source": [
        "plt.plot(np.arange(len(val_r2_scores)), val_r2_scores)\n",
        "plt.title('val_r2_scores')\n",
        "plt.xlabel(\"epoch\")\n",
        "plt.show()"
      ],
      "metadata": {
        "id": "6Ym28stOod5c"
      },
      "outputs": [],
      "execution_count": null
    },
    {
      "cell_type": "code",
      "source": [
        "model.eval()\n",
        "predictions = []\n",
        "with torch.no_grad():\n",
        "    for x_batch, _ in test_loader:\n",
        "        x_batch = x_batch.to(device)\n",
        "        preds = model(x_batch)\n",
        "        predictions.extend(preds.cpu().numpy())"
      ],
      "metadata": {
        "id": "W_kVSfj0uJ2Y"
      },
      "outputs": [],
      "execution_count": null
    },
    {
      "cell_type": "code",
      "source": [
        "submition.prediction = predictions\n",
        "submition.to_csv('GRU_sub.csv', index = False)"
      ],
      "metadata": {
        "id": "1hZr1cyauEUw"
      },
      "outputs": [],
      "execution_count": null
    },
    {
      "cell_type": "code",
      "source": [
        "class BertRegressionDataset(Dataset):\n",
        "    def __init__(self, texts, targets, tokenizer, max_len=128):\n",
        "        self.texts = texts\n",
        "        self.targets = targets\n",
        "        self.tokenizer = tokenizer\n",
        "        self.max_len = max_len\n",
        "\n",
        "    def __len__(self):\n",
        "        return len(self.texts)\n",
        "\n",
        "    def __getitem__(self, idx):\n",
        "        encoding = self.tokenizer(\n",
        "            self.texts[idx],\n",
        "            max_length=self.max_len,\n",
        "            padding='max_length',\n",
        "            truncation=True,\n",
        "            return_tensors='pt'\n",
        "        )\n",
        "        item = {key: val.squeeze(0) for key, val in encoding.items()}\n",
        "        item['labels'] = torch.tensor(self.targets[idx], dtype=torch.float)\n",
        "        return item\n"
      ],
      "metadata": {
        "id": "PCVSB_zBJb53"
      },
      "outputs": [],
      "execution_count": null
    },
    {
      "cell_type": "code",
      "source": [
        "train_loader = DataLoader(train_dataset, batch_size=16, shuffle=True)\n",
        "val_loader = DataLoader(val_dataset, batch_size=16)"
      ],
      "metadata": {
        "id": "sRL8qtwXJfSO"
      },
      "outputs": [],
      "execution_count": null
    },
    {
      "cell_type": "code",
      "source": [
        "from transformers import AutoModelForSequenceClassification\n",
        "model = AutoModelForSequenceClassification.from_pretrained(\n",
        "    \"DeepPavlov/rubert-base-cased\",\n",
        "    num_labels=1  # регрессия\n",
        ").to(device)"
      ],
      "metadata": {
        "id": "H2zN8byuJhbY"
      },
      "outputs": [],
      "execution_count": null
    },
    {
      "cell_type": "code",
      "source": [
        "from tqdm import tqdm\n",
        "import torch.optim as optim\n",
        "from sklearn.metrics import r2_score\n",
        "\n",
        "def train_epoch(model, data_loader, optimizer, device):\n",
        "    model.train()\n",
        "    losses = []\n",
        "    for batch in tqdm(data_loader):\n",
        "        optimizer.zero_grad()\n",
        "        input_ids = batch['input_ids'].to(device)\n",
        "        attention_mask = batch['attention_mask'].to(device)\n",
        "        labels = batch['labels'].to(device).unsqueeze(1)  # [batch, 1]\n",
        "\n",
        "        outputs = model(input_ids, attention_mask=attention_mask)\n",
        "        preds = outputs.logits\n",
        "        loss_fct = nn.MSELoss()\n",
        "        loss = loss_fct(preds, labels)\n",
        "        loss.backward()\n",
        "        optimizer.step()\n",
        "        losses.append(loss.item())\n",
        "    return sum(losses)/len(losses)\n",
        "\n",
        "def eval_epoch(model, data_loader, device):\n",
        "    model.eval()\n",
        "    losses = []\n",
        "    all_preds = []\n",
        "    all_labels = []\n",
        "    loss_fct = nn.MSELoss()\n",
        "    with torch.no_grad():\n",
        "        for batch in tqdm(data_loader):\n",
        "            input_ids = batch['input_ids'].to(device)\n",
        "            attention_mask = batch['attention_mask'].to(device)\n",
        "            labels = batch['labels'].to(device).unsqueeze(1)\n",
        "            outputs = model(input_ids, attention_mask=attention_mask)\n",
        "            preds = outputs.logits\n",
        "            loss = loss_fct(preds, labels)\n",
        "            losses.append(loss.item())\n",
        "            all_preds.extend(preds.cpu().squeeze(1).tolist())\n",
        "            all_labels.extend(labels.cpu().squeeze(1).tolist())\n",
        "    avg_loss = sum(losses)/len(losses)\n",
        "    r2 = r2_score(all_labels, all_preds)\n",
        "    return avg_loss, r2\n"
      ],
      "metadata": {
        "id": "RKmgNYwDJkt3"
      },
      "outputs": [],
      "execution_count": null
    },
    {
      "cell_type": "code",
      "source": [
        "optimizer = optim.AdamW(model.parameters(), lr=2e-5)\n",
        "num_epochs = 4\n",
        "for epoch in range(num_epochs):\n",
        "    train_loss = train_epoch(model, train_loader, optimizer, device)\n",
        "    val_loss, val_r2 = eval_epoch(model, val_loader, device)\n",
        "    print(f'Epoch {epoch+1}: Train Loss {train_loss:.4f}, Val Loss {val_loss:.4f}, Val R2 {val_r2:.4f}')\n",
        "\n",
        "test_dataset = BertRegressionDataset(test_df['processed_text'].tolist(), [0]*len(test_df), tokenizer)\n",
        "test_loader = DataLoader(test_dataset, batch_size=16)\n",
        "\n",
        "model.eval()\n",
        "predictions = []\n",
        "with torch.no_grad():\n",
        "    for batch in test_loader:\n",
        "        input_ids = batch['input_ids'].to(device)\n",
        "        attention_mask = batch['attention_mask'].to(device)\n",
        "        outputs = model(input_ids, attention_mask=attention_mask)\n",
        "        preds = outputs.logits.squeeze(1).cpu().tolist()\n",
        "        predictions.extend(preds)\n"
      ],
      "metadata": {
        "id": "AGWugQK8J5mC"
      },
      "outputs": [],
      "execution_count": null
    },
    {
      "cell_type": "code",
      "source": [
        "submition.prediction = predictions\n",
        "submition.to_csv('DeepPav_sub.csv', index = False)"
      ],
      "metadata": {
        "id": "pbN1xcfEK1K6"
      },
      "outputs": [],
      "execution_count": null
    }
  ]
}